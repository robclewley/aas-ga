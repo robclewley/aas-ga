{
 "cells": [
  {
   "cell_type": "code",
   "execution_count": 1,
   "metadata": {},
   "outputs": [],
   "source": [
    "%load_ext autoreload\n",
    "%autoreload 2"
   ]
  },
  {
   "cell_type": "code",
   "execution_count": 2,
   "metadata": {},
   "outputs": [],
   "source": [
    "import csv\n",
    "import time\n",
    "from collections import defaultdict, Counter"
   ]
  },
  {
   "cell_type": "code",
   "execution_count": 3,
   "metadata": {},
   "outputs": [],
   "source": [
    "import json\n",
    "from urllib.request import Request, urlopen\n",
    "import pickle"
   ]
  },
  {
   "cell_type": "code",
   "execution_count": 216,
   "metadata": {},
   "outputs": [],
   "source": [
    "import pandas as pd\n",
    "import numpy as np\n",
    "import geopandas as gpd\n",
    "import shapely\n",
    "from shapely.geometry import shape, Point\n",
    "import shapefile\n",
    "from geopy import distance"
   ]
  },
  {
   "cell_type": "code",
   "execution_count": 5,
   "metadata": {},
   "outputs": [],
   "source": [
    "import plotly.figure_factory as ff\n",
    "import plotly.io as pio\n",
    "import plotly as plt\n",
    "pio.renderers.default = \"jupyterlab\"\n",
    "import plotly.express as px\n",
    "import plotly.graph_objects as go"
   ]
  },
  {
   "cell_type": "code",
   "execution_count": 6,
   "metadata": {},
   "outputs": [],
   "source": [
    "from tqdm import tqdm"
   ]
  },
  {
   "cell_type": "code",
   "execution_count": 7,
   "metadata": {},
   "outputs": [],
   "source": [
    "from utils import *"
   ]
  },
  {
   "cell_type": "code",
   "execution_count": 287,
   "metadata": {},
   "outputs": [
    {
     "name": "stderr",
     "output_type": "stream",
     "text": [
      "/Users/robclewley/.pyenv/versions/3.7.5/lib/python3.7/site-packages/IPython/core/interactiveshell.py:3254: DtypeWarning:\n",
      "\n",
      "Columns (10,16,17,19,20,27,28,29,31,32,52,59,60,61,62,68,69,70,73,74,75,82,83,84) have mixed types.Specify dtype option on import or set low_memory=False.\n",
      "\n"
     ]
    }
   ],
   "source": [
    "df = load_csv_export_dataset(\"export_dataframe_stage1.csv\")"
   ]
  },
  {
   "cell_type": "code",
   "execution_count": 36,
   "metadata": {},
   "outputs": [],
   "source": [
    "locs = df[['SiteName', 'SiteLocation']]"
   ]
  },
  {
   "cell_type": "code",
   "execution_count": 13,
   "metadata": {},
   "outputs": [
    {
     "data": {
      "text/plain": [
       "63951"
      ]
     },
     "execution_count": 13,
     "metadata": {},
     "output_type": "execute_result"
    }
   ],
   "source": [
    "len(locs)"
   ]
  },
  {
   "cell_type": "code",
   "execution_count": 10,
   "metadata": {},
   "outputs": [
    {
     "data": {
      "text/html": [
       "<div>\n",
       "<style scoped>\n",
       "    .dataframe tbody tr th:only-of-type {\n",
       "        vertical-align: middle;\n",
       "    }\n",
       "\n",
       "    .dataframe tbody tr th {\n",
       "        vertical-align: top;\n",
       "    }\n",
       "\n",
       "    .dataframe thead th {\n",
       "        text-align: right;\n",
       "    }\n",
       "</style>\n",
       "<table border=\"1\" class=\"dataframe\">\n",
       "  <thead>\n",
       "    <tr style=\"text-align: right;\">\n",
       "      <th></th>\n",
       "      <th>SiteName</th>\n",
       "      <th>SiteLocation</th>\n",
       "    </tr>\n",
       "  </thead>\n",
       "  <tbody>\n",
       "    <tr>\n",
       "      <th>0</th>\n",
       "      <td>West Fork of Little River</td>\n",
       "      <td>34.4103  -83.8462</td>\n",
       "    </tr>\n",
       "    <tr>\n",
       "      <th>1</th>\n",
       "      <td>West Fork of Little River</td>\n",
       "      <td>34.4103  -83.8462</td>\n",
       "    </tr>\n",
       "    <tr>\n",
       "      <th>2</th>\n",
       "      <td>Apalachee River</td>\n",
       "      <td>33.8406  -83.5584</td>\n",
       "    </tr>\n",
       "    <tr>\n",
       "      <th>3</th>\n",
       "      <td>Apalachee River</td>\n",
       "      <td>33.8406  -83.5584</td>\n",
       "    </tr>\n",
       "    <tr>\n",
       "      <th>4</th>\n",
       "      <td>Apalachee River</td>\n",
       "      <td>33.8406  -83.5584</td>\n",
       "    </tr>\n",
       "  </tbody>\n",
       "</table>\n",
       "</div>"
      ],
      "text/plain": [
       "                    SiteName       SiteLocation\n",
       "0  West Fork of Little River  34.4103  -83.8462\n",
       "1  West Fork of Little River  34.4103  -83.8462\n",
       "2            Apalachee River  33.8406  -83.5584\n",
       "3            Apalachee River  33.8406  -83.5584\n",
       "4            Apalachee River  33.8406  -83.5584"
      ]
     },
     "execution_count": 10,
     "metadata": {},
     "output_type": "execute_result"
    }
   ],
   "source": [
    "locs.head()"
   ]
  },
  {
   "cell_type": "markdown",
   "metadata": {},
   "source": [
    "# NULLs and test sites"
   ]
  },
  {
   "cell_type": "code",
   "execution_count": 47,
   "metadata": {},
   "outputs": [
    {
     "data": {
      "text/plain": [
       "Test Site    154\n",
       "Name: SiteName, dtype: int64"
      ]
     },
     "execution_count": 47,
     "metadata": {},
     "output_type": "execute_result"
    }
   ],
   "source": [
    "df[df['SiteLocation'].isna()]['SiteName'].value_counts()"
   ]
  },
  {
   "cell_type": "markdown",
   "metadata": {},
   "source": [
    "This shows that all empty locations are associated with \"Test Site\", and strongly suggests the whole records are not real data points.\n",
    "\n",
    "So let's remove 'NULL' locations in the CSV (recorded as np.nan in the dataframe parsing) locations from the dataset.\n",
    "\n",
    "We might also provide a means to remove the full records from the dataset and update the data for other users."
   ]
  },
  {
   "cell_type": "code",
   "execution_count": 291,
   "metadata": {},
   "outputs": [],
   "source": [
    "df = df[~df['SiteLocation'].isna()]"
   ]
  },
  {
   "cell_type": "code",
   "execution_count": 38,
   "metadata": {},
   "outputs": [],
   "source": [
    "#locs = locs[locs['SiteLocation'] != 'NULL']\n",
    "locs = locs[~locs['SiteLocation'].isna()]"
   ]
  },
  {
   "cell_type": "markdown",
   "metadata": {},
   "source": [
    "Notice how these coordinates are stored in an awkward string format. Let's break these out to pairs of floats, which will enable us to do more with GIS utilities."
   ]
  },
  {
   "cell_type": "code",
   "execution_count": 35,
   "metadata": {},
   "outputs": [],
   "source": [
    "loc_pairs, geo_locs, gdf = get_loc_objects_from_series(locs['SiteLocation'])"
   ]
  },
  {
   "cell_type": "markdown",
   "metadata": {},
   "source": [
    "# Distribution of locations"
   ]
  },
  {
   "cell_type": "markdown",
   "metadata": {},
   "source": [
    "Make sure to unzip the file in the geodata folder first."
   ]
  },
  {
   "cell_type": "code",
   "execution_count": 218,
   "metadata": {},
   "outputs": [],
   "source": [
    "# watershed boundaries\n",
    "WBD_gj = shapefile.Reader(\"geodata/hydrologic_units_WBDHU12_ga_3975106_02/hydrologic_units\\wbdhu12_a_ga.shp\").__geo_interface__"
   ]
  },
  {
   "cell_type": "markdown",
   "metadata": {},
   "source": [
    "Demonstrate that the max inter-site distance is < 450 miles"
   ]
  },
  {
   "cell_type": "code",
   "execution_count": 84,
   "metadata": {},
   "outputs": [],
   "source": [
    "GA_map = get_state_map()"
   ]
  },
  {
   "cell_type": "code",
   "execution_count": 21,
   "metadata": {},
   "outputs": [
    {
     "data": {
      "text/html": [
       "<div>\n",
       "<style scoped>\n",
       "    .dataframe tbody tr th:only-of-type {\n",
       "        vertical-align: middle;\n",
       "    }\n",
       "\n",
       "    .dataframe tbody tr th {\n",
       "        vertical-align: top;\n",
       "    }\n",
       "\n",
       "    .dataframe thead th {\n",
       "        text-align: right;\n",
       "    }\n",
       "</style>\n",
       "<table border=\"1\" class=\"dataframe\">\n",
       "  <thead>\n",
       "    <tr style=\"text-align: right;\">\n",
       "      <th></th>\n",
       "      <th>FIPS</th>\n",
       "      <th>STNAME</th>\n",
       "      <th>County</th>\n",
       "      <th>TOT_POP</th>\n",
       "      <th>TOT_MALE</th>\n",
       "      <th>TOT_FEMALE</th>\n",
       "      <th>WA_MALE</th>\n",
       "      <th>WA_FEMALE</th>\n",
       "      <th>NHWA_MALE</th>\n",
       "      <th>NHWA_FEMALE</th>\n",
       "      <th>NHWhite_Alone</th>\n",
       "      <th>Not_NHWhite_Alone</th>\n",
       "      <th>MinorityMinority</th>\n",
       "      <th>MinorityPCT</th>\n",
       "      <th>Black</th>\n",
       "      <th>BlackPCT</th>\n",
       "      <th>Hispanic</th>\n",
       "      <th>HispanicPCT</th>\n",
       "    </tr>\n",
       "  </thead>\n",
       "  <tbody>\n",
       "    <tr>\n",
       "      <th>2807</th>\n",
       "      <td>13001</td>\n",
       "      <td>Georgia</td>\n",
       "      <td>Appling</td>\n",
       "      <td>18368</td>\n",
       "      <td>9294</td>\n",
       "      <td>9074</td>\n",
       "      <td>7197</td>\n",
       "      <td>7139</td>\n",
       "      <td>6284</td>\n",
       "      <td>6520</td>\n",
       "      <td>12804</td>\n",
       "      <td>5564</td>\n",
       "      <td>No</td>\n",
       "      <td>30.29%</td>\n",
       "      <td>3607</td>\n",
       "      <td>20%</td>\n",
       "      <td>1728</td>\n",
       "      <td>9.41%</td>\n",
       "    </tr>\n",
       "    <tr>\n",
       "      <th>2808</th>\n",
       "      <td>13003</td>\n",
       "      <td>Georgia</td>\n",
       "      <td>Atkinson</td>\n",
       "      <td>8284</td>\n",
       "      <td>4203</td>\n",
       "      <td>4081</td>\n",
       "      <td>3291</td>\n",
       "      <td>3143</td>\n",
       "      <td>2317</td>\n",
       "      <td>2371</td>\n",
       "      <td>4688</td>\n",
       "      <td>3596</td>\n",
       "      <td>No</td>\n",
       "      <td>43.41%</td>\n",
       "      <td>1459</td>\n",
       "      <td>18%</td>\n",
       "      <td>2050</td>\n",
       "      <td>24.75%</td>\n",
       "    </tr>\n",
       "    <tr>\n",
       "      <th>2809</th>\n",
       "      <td>13005</td>\n",
       "      <td>Georgia</td>\n",
       "      <td>Bacon</td>\n",
       "      <td>11198</td>\n",
       "      <td>5562</td>\n",
       "      <td>5636</td>\n",
       "      <td>4558</td>\n",
       "      <td>4592</td>\n",
       "      <td>4094</td>\n",
       "      <td>4273</td>\n",
       "      <td>8367</td>\n",
       "      <td>2831</td>\n",
       "      <td>No</td>\n",
       "      <td>25.28%</td>\n",
       "      <td>1790</td>\n",
       "      <td>16%</td>\n",
       "      <td>890</td>\n",
       "      <td>7.95%</td>\n",
       "    </tr>\n",
       "    <tr>\n",
       "      <th>2810</th>\n",
       "      <td>13007</td>\n",
       "      <td>Georgia</td>\n",
       "      <td>Baker</td>\n",
       "      <td>3366</td>\n",
       "      <td>1606</td>\n",
       "      <td>1760</td>\n",
       "      <td>858</td>\n",
       "      <td>876</td>\n",
       "      <td>796</td>\n",
       "      <td>823</td>\n",
       "      <td>1619</td>\n",
       "      <td>1747</td>\n",
       "      <td>Yes</td>\n",
       "      <td>51.90%</td>\n",
       "      <td>1551</td>\n",
       "      <td>46%</td>\n",
       "      <td>152</td>\n",
       "      <td>4.52%</td>\n",
       "    </tr>\n",
       "    <tr>\n",
       "      <th>2811</th>\n",
       "      <td>13009</td>\n",
       "      <td>Georgia</td>\n",
       "      <td>Baldwin</td>\n",
       "      <td>46367</td>\n",
       "      <td>23365</td>\n",
       "      <td>23002</td>\n",
       "      <td>13011</td>\n",
       "      <td>12750</td>\n",
       "      <td>12638</td>\n",
       "      <td>12391</td>\n",
       "      <td>25029</td>\n",
       "      <td>21338</td>\n",
       "      <td>No</td>\n",
       "      <td>46.02%</td>\n",
       "      <td>19150</td>\n",
       "      <td>41%</td>\n",
       "      <td>977</td>\n",
       "      <td>2.11%</td>\n",
       "    </tr>\n",
       "  </tbody>\n",
       "</table>\n",
       "</div>"
      ],
      "text/plain": [
       "       FIPS   STNAME    County  TOT_POP  TOT_MALE  TOT_FEMALE  WA_MALE  \\\n",
       "2807  13001  Georgia   Appling    18368      9294        9074     7197   \n",
       "2808  13003  Georgia  Atkinson     8284      4203        4081     3291   \n",
       "2809  13005  Georgia     Bacon    11198      5562        5636     4558   \n",
       "2810  13007  Georgia     Baker     3366      1606        1760      858   \n",
       "2811  13009  Georgia   Baldwin    46367     23365       23002    13011   \n",
       "\n",
       "      WA_FEMALE  NHWA_MALE  NHWA_FEMALE  NHWhite_Alone  Not_NHWhite_Alone  \\\n",
       "2807       7139       6284         6520          12804               5564   \n",
       "2808       3143       2317         2371           4688               3596   \n",
       "2809       4592       4094         4273           8367               2831   \n",
       "2810        876        796          823           1619               1747   \n",
       "2811      12750      12638        12391          25029              21338   \n",
       "\n",
       "     MinorityMinority MinorityPCT  Black BlackPCT  Hispanic HispanicPCT  \n",
       "2807               No      30.29%   3607      20%      1728       9.41%  \n",
       "2808               No      43.41%   1459      18%      2050      24.75%  \n",
       "2809               No      25.28%   1790      16%       890       7.95%  \n",
       "2810              Yes      51.90%   1551      46%       152       4.52%  \n",
       "2811               No      46.02%  19150      41%       977       2.11%  "
      ]
     },
     "execution_count": 21,
     "metadata": {},
     "output_type": "execute_result"
    }
   ],
   "source": [
    "GA_map.head()"
   ]
  },
  {
   "cell_type": "code",
   "execution_count": 85,
   "metadata": {},
   "outputs": [],
   "source": [
    "fips = GA_map['FIPS'].tolist()"
   ]
  },
  {
   "cell_type": "code",
   "execution_count": 226,
   "metadata": {},
   "outputs": [
    {
     "data": {
      "text/plain": [
       "1860"
      ]
     },
     "execution_count": 226,
     "metadata": {},
     "output_type": "execute_result"
    }
   ],
   "source": [
    "len(WBD_gj['features'])"
   ]
  },
  {
   "cell_type": "code",
   "execution_count": 229,
   "metadata": {},
   "outputs": [],
   "source": [
    "wbd_names = set([wbd['properties']['name'] for wbd in WBD_gj['features']])"
   ]
  },
  {
   "cell_type": "code",
   "execution_count": 232,
   "metadata": {},
   "outputs": [
    {
     "data": {
      "text/plain": [
       "137"
      ]
     },
     "execution_count": 232,
     "metadata": {},
     "output_type": "execute_result"
    }
   ],
   "source": [
    "# some overlap in site names to watershed boundaries\n",
    "len([sn for sn in df['SiteName'].unique() if sn in wbd_names])"
   ]
  },
  {
   "cell_type": "markdown",
   "metadata": {},
   "source": [
    "### Plot distribution of unique record locations using mapbox"
   ]
  },
  {
   "cell_type": "code",
   "execution_count": null,
   "metadata": {},
   "outputs": [],
   "source": [
    "fig = px.choropleth_mapbox(pd.DataFrame(data={'name': [wbd['properties']['name'] for wbd in WBD_gj['features']]}),\n",
    "                           geojson=WBD_gj,\n",
    "                           locations=\"name\",\n",
    "                           featureidkey=\"properties.name\",\n",
    "                           center={\"lat\": 32.8407, \"lon\": -83.6324}, # macon\n",
    "                           mapbox_style=\"stamen-terrain\", #\"carto-positron\",\n",
    "                           zoom=6,\n",
    "                           opacity=0.3,\n",
    "                      )\n",
    "\n",
    "fig.add_scattermapbox(\n",
    "    lat = gdf.geometry.x,\n",
    "    lon = gdf.geometry.y,\n",
    "    mode = 'markers',\n",
    "    hovertext = [d['County']['name'] for d in loc_lookup],\n",
    "    marker_size=4,\n",
    "    marker_color='rgb(235, 0, 100)'\n",
    ")\n",
    "\n",
    "fig.update_layout(margin={\"r\":0, \"t\":0, \"l\":0, \"b\":0})\n",
    "fig.show()"
   ]
  },
  {
   "cell_type": "markdown",
   "metadata": {},
   "source": [
    "### Alternate plot of distribution of unique record locations"
   ]
  },
  {
   "cell_type": "code",
   "execution_count": null,
   "metadata": {},
   "outputs": [],
   "source": [
    "fig = go.Figure(go.Scattergeo())\n",
    "fig.layout.template = None\n",
    "fig.add_scattergeo(\n",
    "    lat = gdf.geometry.x,\n",
    "    lon = gdf.geometry.y,\n",
    "    hoverinfo='none',\n",
    "    #mode = 'markers+text',\n",
    "    #text = texts,\n",
    "    marker_size = 2,\n",
    "    marker_color = 'rgb(235, 0, 100)'\n",
    ")\n",
    "fig.update_geos(\n",
    "    visible=False, resolution=110, scope=\"usa\",\n",
    "    showcountries=True, countrycolor=\"Black\",\n",
    "    showsubunits=True, subunitcolor=\"Black\"\n",
    ")\n",
    "fig.show()"
   ]
  },
  {
   "cell_type": "markdown",
   "metadata": {},
   "source": [
    "## Incorporate watershed boundaries"
   ]
  },
  {
   "cell_type": "code",
   "execution_count": 240,
   "metadata": {},
   "outputs": [],
   "source": [
    "WBD_polygons = [shape(feature['geometry']) for feature in WBD_gj['features']]"
   ]
  },
  {
   "cell_type": "code",
   "execution_count": 271,
   "metadata": {},
   "outputs": [],
   "source": [
    "poly = WBD_polygons[0]"
   ]
  },
  {
   "cell_type": "code",
   "execution_count": 273,
   "metadata": {},
   "outputs": [],
   "source": [
    "for i, poly in enumerate(WBD_polygons):\n",
    "    if not poly.is_valid:\n",
    "        print(i)"
   ]
  },
  {
   "cell_type": "code",
   "execution_count": 277,
   "metadata": {},
   "outputs": [],
   "source": [
    "for i, poly in enumerate(WBD_polygons):\n",
    "    if poly.is_empty:\n",
    "        print(i)"
   ]
  },
  {
   "cell_type": "markdown",
   "metadata": {},
   "source": [
    "The polys generally do not appear to be closed. Could this be why they don't all show up correctly in the plot, and fail to fill the whole state's area?\n",
    "\n",
    "Are we missing WBD polys that will prevent some record locations from being properly associated with a WBD?"
   ]
  },
  {
   "cell_type": "code",
   "execution_count": 278,
   "metadata": {},
   "outputs": [
    {
     "data": {
      "text/plain": [
       "False"
      ]
     },
     "execution_count": 278,
     "metadata": {},
     "output_type": "execute_result"
    }
   ],
   "source": [
    "poly.is_closed"
   ]
  },
  {
   "cell_type": "code",
   "execution_count": 345,
   "metadata": {},
   "outputs": [],
   "source": [
    "ll = df[['lat', 'long']]"
   ]
  },
  {
   "cell_type": "code",
   "execution_count": 417,
   "metadata": {},
   "outputs": [
    {
     "name": "stderr",
     "output_type": "stream",
     "text": [
      "100%|██████████| 63797/63797 [00:08<00:00, 7219.17it/s] \n"
     ]
    }
   ],
   "source": [
    "# TODO: create and use bounding boxes to get rough likelihood of containment before computing on the whole polygon\n",
    "point_lookup_cache = {}\n",
    "wbds = []\n",
    "for lat, long in tqdm(ll.values):\n",
    "    wbd_name = None\n",
    "    try:\n",
    "        wbd_name = point_lookup_cache[(long, lat)]\n",
    "    except KeyError:\n",
    "        point = Point(long, lat)\n",
    "        for feat_idx, poly in enumerate(WBD_polygons):\n",
    "            if poly.contains(point):\n",
    "                wbd_name = WBD_gj['features'][feat_idx]['properties']['name']\n",
    "                break\n",
    "        point_lookup_cache[(long, lat)] = wbd_name\n",
    "    wbds.append(wbd_name)"
   ]
  },
  {
   "cell_type": "code",
   "execution_count": 418,
   "metadata": {},
   "outputs": [
    {
     "data": {
      "text/plain": [
       "4237"
      ]
     },
     "execution_count": 418,
     "metadata": {},
     "output_type": "execute_result"
    }
   ],
   "source": [
    "wbds.count(None)"
   ]
  },
  {
   "cell_type": "code",
   "execution_count": 419,
   "metadata": {},
   "outputs": [
    {
     "data": {
      "text/plain": [
       "59560"
      ]
     },
     "execution_count": 419,
     "metadata": {},
     "output_type": "execute_result"
    }
   ],
   "source": [
    "len(wbds) - wbds.count(None)"
   ]
  },
  {
   "cell_type": "code",
   "execution_count": 420,
   "metadata": {
    "collapsed": true,
    "jupyter": {
     "outputs_hidden": true
    }
   },
   "outputs": [
    {
     "data": {
      "text/plain": [
       "{'030702040405',\n",
       " 'Acorn Creek-Chattahoochee River',\n",
       " 'Alapaha-Alapaha River',\n",
       " 'Albany-Flint River',\n",
       " 'Allatoona Creek-Lake Allatoona',\n",
       " 'Allen Creek',\n",
       " 'Altamaha Sound-Frontal Atlantic Ocean',\n",
       " 'Amys Creek-Chattahoochee River',\n",
       " 'Anneewakee Creek',\n",
       " 'Arabia Swamp',\n",
       " 'Arkaqua Creek-Nottely River',\n",
       " 'Augusta Canal-Savannah River',\n",
       " 'Avery Creek-Mill Creek',\n",
       " 'Baileys Branch-Satilla River',\n",
       " 'Baker Branch-Ogeechee River',\n",
       " 'Bald Ridge Creek',\n",
       " 'Baldwin Creek-Bear Creek',\n",
       " 'Barbar Branch',\n",
       " 'Barbers Creek-Satilla River',\n",
       " 'Battle Creek-Ohoopee River',\n",
       " 'Bear Branch',\n",
       " 'Bear Creek',\n",
       " 'Beaver Creek-Ohoopee River',\n",
       " 'Beaver Ruin Creek',\n",
       " 'Beaverdam Creek-Alcovy River',\n",
       " 'Beaverdam Ditch-Savannah River',\n",
       " 'Bell Creek-Potato Creek',\n",
       " 'Ben Creek-Alapaha River',\n",
       " 'Big Branch-Canoochee River',\n",
       " 'Big Branch-Seventeen Mile River',\n",
       " 'Big Cedar Creek',\n",
       " 'Big Creek',\n",
       " 'Black Mill Creek-Etowah River',\n",
       " 'Blackbank River-Frontal Atlantic Ocean',\n",
       " 'Blue Creek-Yellowjacket Creek',\n",
       " 'Blue John Creek',\n",
       " 'Bluestone Creek-Broad River',\n",
       " 'Boggy Bay-Alapaha River',\n",
       " 'Boone Creek',\n",
       " 'Bow Creek-Oostanaula River',\n",
       " 'Boyd Branch-Ogeechee River',\n",
       " 'Brewton Creek',\n",
       " 'Brier Creek-Pataula Creek',\n",
       " 'Broxton Creek',\n",
       " 'Brush Creek',\n",
       " 'Buck Creek',\n",
       " 'Buck Creek-Flint River',\n",
       " 'Buck Creek-Oconee River',\n",
       " 'Bullpen Branch-Holly Creek',\n",
       " 'Butler Creek',\n",
       " 'Butternut Creek-Nottely River',\n",
       " 'Cabbage Creek-St. Marys River',\n",
       " 'Cabin Creek',\n",
       " 'Calls Creek-Middle Oconee River',\n",
       " 'Camp Bert Adams Lake-Chattahoochee River',\n",
       " 'Camp Creek',\n",
       " 'Camp Creek-South River',\n",
       " 'Campbell Creek-Little River',\n",
       " 'Canada Creek-Toccoa River',\n",
       " 'Cane Creek',\n",
       " 'Cane Water Pond',\n",
       " 'Caney Branch-Satilla River',\n",
       " 'Canton Creek',\n",
       " 'Carr Branch-Yellow River',\n",
       " 'Casey Canal-Haneys Creek',\n",
       " 'Cason Branch-Rocky Comfort Creek',\n",
       " 'Cat Creek-Seventeen Mile River',\n",
       " 'Catfish Creek-St. Marys River',\n",
       " 'Cauley Creek-Chattahoochee River',\n",
       " 'Cavenders Creek-Chestatee River',\n",
       " 'Cedar Creek',\n",
       " 'Cedar Creek-North Oconee River',\n",
       " 'Chattanooga Creek',\n",
       " 'Chatuge Lake',\n",
       " 'Chickamauga Creek',\n",
       " 'Chicken Creek',\n",
       " 'City of Rome-Etowah River',\n",
       " 'Clear Creek-Kinchafoonee Creek',\n",
       " 'Clear Creek-Pataula Creek',\n",
       " 'Clear Creek-Rocky Comfort Creek',\n",
       " 'Clyatt Mill Creek',\n",
       " 'Cochrans Creek',\n",
       " 'Conasauga Creek',\n",
       " 'Coody Creek-Broad River',\n",
       " 'Cooper Creek',\n",
       " 'Cooper Creek-Bull Creek',\n",
       " 'Coosa Creek',\n",
       " 'Coosawattee River-Carters Lake',\n",
       " 'Copper Sandy Creek',\n",
       " 'Cornhouse Creek',\n",
       " 'Cornish Creek',\n",
       " 'Cox Creek-Long Swamp Creek',\n",
       " 'Cox Creek-Satilla River',\n",
       " 'Crooked Creek-Chattahoochee River',\n",
       " 'Crooked Creek-North Oconee River',\n",
       " 'Crow Hop-Chattahoochee River',\n",
       " 'Cumberland Sound-Frontal Atlantic Ocean',\n",
       " 'Curry Creek',\n",
       " 'Dasher Creek-Savannah River',\n",
       " 'Davis Creek',\n",
       " 'Deep Creek',\n",
       " 'Deep Creek-Broad River',\n",
       " 'Deep Creek-St. Marys River',\n",
       " 'Deer Creek-Muckalee Creek',\n",
       " 'Demott Lake-Ochlockonee River',\n",
       " 'Dicks Creek',\n",
       " 'District Hollow Branch-Gum Swamp Creek',\n",
       " 'Doboy Sound-Frontal Atlantic Ocean',\n",
       " 'Dog Branch-Yellow River',\n",
       " 'Dooley Creek-Nottely River',\n",
       " 'Douglas Lake-Big Slough',\n",
       " 'Dove Creek',\n",
       " 'Dowdell Creek',\n",
       " 'Dozier Branch-Little River',\n",
       " 'Dozier Creek-Oostanaula River',\n",
       " 'Drag Nasty Creek-Chattahoochee River',\n",
       " 'Dried Indian Creek-Yellow River',\n",
       " 'Drowning Bear Creek',\n",
       " 'Dry Branch-Ogeechee River',\n",
       " 'Dry Creek',\n",
       " 'Duncan Creek-Mulberry River',\n",
       " 'Dykes Creek',\n",
       " 'East Branch Long Swamp Creek',\n",
       " 'East Fork Little River',\n",
       " 'Ebenezer Creek',\n",
       " 'Eddards Creek-Alligator Creek',\n",
       " 'Emery Creek-Holly Creek',\n",
       " 'Etowah River-Lake Allatoona',\n",
       " 'Fambro Creek-Towaliga River',\n",
       " 'Fivemile Branch-Muckalee Creek',\n",
       " 'Fivemile Creek',\n",
       " 'Flat Creek',\n",
       " 'Flat Creek-Chattahoochee River',\n",
       " 'Flat Creek-Coosawattee River',\n",
       " 'Flat Creek-Flint River',\n",
       " 'Flat Creek-Withlacoochee River',\n",
       " 'Flat Wood Creek-Tallapoosa River',\n",
       " 'Flatrock Creek-Bull Creek',\n",
       " 'Fords Creek-Ogeechee River',\n",
       " 'Foreman Mill Branch-Hodchodkee Creek',\n",
       " 'Fourmile Creek-Long Swamp Creek',\n",
       " 'Freeman Creek-Appalachee River',\n",
       " 'Fullwood Creek-Satilla River',\n",
       " 'Garner Creek-Yellow River',\n",
       " 'Glady Creek',\n",
       " 'Gleaton Johnson Slough-Flint River',\n",
       " 'Gola Creek-Potato Creek',\n",
       " 'Goldmine Branch-Holly Creek',\n",
       " 'Greenbrier Creek',\n",
       " 'Greene Creek-Tallapoosa River',\n",
       " 'Gum Creek',\n",
       " 'Gum Creek-Flint River',\n",
       " 'Hampton Island-Conasauga River',\n",
       " 'Hampton Lake',\n",
       " 'Hardin Canal-Little Ogeechee River',\n",
       " 'Hardy Mill Creek',\n",
       " 'Harris Creek-St. Marys River',\n",
       " 'Hazel Creek',\n",
       " 'Headwaters Big Creek',\n",
       " 'Headwaters Elkins Creek',\n",
       " 'Headwaters Etowah River',\n",
       " 'Headwaters Flint River',\n",
       " 'Headwaters Mill Creek',\n",
       " 'Headwaters Nottely River',\n",
       " 'Headwaters South River',\n",
       " 'Headwaters West Fork Chattooga River',\n",
       " 'Headwaters White Oak Creek',\n",
       " 'Heiferhorn Creek',\n",
       " 'Hickory Log Creek',\n",
       " 'Hightower Creek',\n",
       " 'Hinton Creek-Chattooga River',\n",
       " 'Hinton Creek-Long Swamp Creek',\n",
       " 'Hiwassee River-Chatuge Lake',\n",
       " 'Hobson Creek-Talking Rock Creek',\n",
       " 'Hollonville-Flint River',\n",
       " 'Holly Creek-Little Tallapoosa River',\n",
       " 'Honey Bee Creek-Potato Creek',\n",
       " 'Honey Creek',\n",
       " 'Honey Creek-South River',\n",
       " 'Horton Creek-Flint River',\n",
       " 'Hughes Prong-Canoochee Creek',\n",
       " 'Hurricane Creek-Alcovy River',\n",
       " 'Hurricane Creek-Etowah River',\n",
       " 'Hutchinson Mill Creek',\n",
       " 'Indian Creek-Satilla River',\n",
       " 'Ivy Creek',\n",
       " 'Ivylog Creek',\n",
       " 'Jackson Branch-Ogeechee River',\n",
       " 'Jackson Creek',\n",
       " 'James Creek-Chattahoochee River',\n",
       " 'James Pond-Kinchafoonee Creek',\n",
       " 'Jerico River-Laurel View River',\n",
       " 'Jerry Reeves Creek-Potato Creek',\n",
       " 'Jims Creek-Fifteen Mile Creek',\n",
       " 'Jobs Creek-Conasauga River',\n",
       " 'Johns Creek',\n",
       " 'Jointer Creek-Little Satilla River',\n",
       " 'Jolly River',\n",
       " 'Jug Creek-Etowah River',\n",
       " 'Julieton River-Sapelo River',\n",
       " 'Kells Creek-Ellijay River',\n",
       " 'Kemp Creek',\n",
       " 'Kettle Creek-Satilla River',\n",
       " 'Knights Branch-Alapah River',\n",
       " 'Lake Alcyone-Withlacoochee River',\n",
       " 'Lake Allatoona',\n",
       " 'Lake Creek',\n",
       " 'Lake Oconee-Lake Sinclair',\n",
       " 'Lane Creek-Pumpkinvine Creek',\n",
       " 'Latham Creek',\n",
       " 'Level Creek-Chattahoochee River',\n",
       " 'Lick Creek-Salacoa Creek',\n",
       " 'Lick Log Creek-Mill Creek',\n",
       " 'Licklog Creek-Cartecay River',\n",
       " 'Limestone Creek-Lake Sidney Lanier',\n",
       " 'Linton Lake',\n",
       " 'Little Alatoona Creek',\n",
       " 'Little Amicalola Creek',\n",
       " 'Little Branch',\n",
       " 'Little Brushy Creek',\n",
       " 'Little Buffalo Creek',\n",
       " 'Little Cedar Creek',\n",
       " 'Little Creek-Satilla River',\n",
       " 'Little Dry Creek-Oostanaula River',\n",
       " 'Little Fightingtown Creek-Fightingtown Creek',\n",
       " 'Little Lotts Creek',\n",
       " 'Little Mulberry River',\n",
       " 'Little Potato Creek',\n",
       " 'Little River-Lake Allatoona',\n",
       " 'Little River-Lake Sidney Lanier',\n",
       " 'Little Satilla River',\n",
       " 'Little Suwanee Creek-Yellow River',\n",
       " 'Llyod Creek-Savannah River',\n",
       " 'Long Branch-Rock Creek',\n",
       " 'Long Island Creek-Chattahoochee River',\n",
       " 'Lost Creek',\n",
       " 'Lovejoy Creek-Oostanaula River',\n",
       " 'Lower Amicalola Creek',\n",
       " 'Lower Barber Creek',\n",
       " 'Lower Beech Creek',\n",
       " 'Lower Big Cotton Indian Creek',\n",
       " 'Lower Big Creek',\n",
       " 'Lower Big Haynes Creek',\n",
       " 'Lower Brasstown Creek',\n",
       " 'Lower Buffalo Creek',\n",
       " 'Lower Cedar Creek',\n",
       " 'Lower Centralhatchee Creek',\n",
       " 'Lower Cooleewahee Creek',\n",
       " 'Lower Crooked River',\n",
       " 'Lower Deep Creek',\n",
       " 'Lower Dog River',\n",
       " 'Lower Elkins Creek',\n",
       " 'Lower Euharlee Creek',\n",
       " 'Lower Fishing Creek',\n",
       " 'Lower Flat Shoal Creek',\n",
       " 'Lower Fork Broad River',\n",
       " 'Lower Gum Creek',\n",
       " 'Lower Hat Creek',\n",
       " 'Lower Holanna Creek',\n",
       " 'Lower Hollow Creek-Savannah River',\n",
       " 'Lower Horse Creek',\n",
       " 'Lower Lake Blackshear',\n",
       " 'Lower Little Chickamauga Creek',\n",
       " 'Lower Little Cotton Indian Creek',\n",
       " 'Lower Little Ichauwaynochaway Creek',\n",
       " 'Lower Little River',\n",
       " 'Lower Long Cane Creek',\n",
       " 'Lower Mossy Creek',\n",
       " 'Lower Mountain Creek',\n",
       " 'Lower Mountaintown Creek',\n",
       " 'Lower New River',\n",
       " 'Lower Noonday Creek',\n",
       " 'Lower Noses Creek',\n",
       " 'Lower Pendelton Creek',\n",
       " 'Lower Piscola Creek',\n",
       " 'Lower Pudding Creek',\n",
       " 'Lower Red Oak Creek',\n",
       " 'Lower Reedy Creek',\n",
       " 'Lower Rooty Creek',\n",
       " 'Lower Sandy Creek',\n",
       " 'Lower Settingdown Creek',\n",
       " 'Lower Shoal Creek',\n",
       " 'Lower South Chickamauga Creek',\n",
       " 'Lower Spanish Creek',\n",
       " 'Lower Spirit Creek',\n",
       " 'Lower Stekoa Creek',\n",
       " 'Lower Sumac Creek',\n",
       " 'Lower Sweetwater Creek',\n",
       " 'Lower Swift Creek',\n",
       " 'Lower Tatum Creek',\n",
       " 'Lower Taylors Creek',\n",
       " 'Lower Tesnatee Creek',\n",
       " 'Lower Tugaloo River',\n",
       " 'Lower Tussahaw Creek-Jackson Lake',\n",
       " 'Lower Walnut Creek',\n",
       " 'Lower Warwoman Creek',\n",
       " 'Lower White Oak Creek',\n",
       " 'Lower Whitewater Creek',\n",
       " 'Lower Willacoochee River',\n",
       " 'Macedonia Slough-Etowah River',\n",
       " 'Machalee Creek-Lake Worth',\n",
       " 'Mackay River-Frontal Atlantic Ocean',\n",
       " 'Manson Branch-Ogeechee River',\n",
       " 'March Creek-Chattahoochee River',\n",
       " 'McGrady Bend-Armuchee Creek',\n",
       " 'McNutt Creek',\n",
       " 'Medway River-Frontal Atlantic Ocean',\n",
       " 'Meeting House Bay-Alapaha River',\n",
       " 'Meetinghouse Branch-Little River',\n",
       " 'Middle Big Creek',\n",
       " 'Middle Big Indian Creek',\n",
       " 'Middle Cooleewahee Creek',\n",
       " 'Middle Elkins Creek',\n",
       " 'Middle Euharlee Creek',\n",
       " 'Middle Flat Shoal Creek',\n",
       " 'Middle Horse Creek',\n",
       " 'Middle Lake Sidney Lanier',\n",
       " 'Middle Line Creek',\n",
       " 'Middle New River',\n",
       " 'Middle Red Oak Creek',\n",
       " 'Middle Turkey Creek',\n",
       " 'Miles Branch-Ogeechee River',\n",
       " 'Mill Branch-Ogeechee River',\n",
       " 'Mill Creek-Alapaha River',\n",
       " 'Mill Creek-Hiawassee River',\n",
       " 'Mill Creek-Little Ocmulgee River',\n",
       " 'Mill Shoal Creek',\n",
       " 'Moody Branch-Conasauga River',\n",
       " 'Moon Lake-Chattahoochee River',\n",
       " 'Morgans Bridge-Ogeechee River',\n",
       " 'Morning Creek',\n",
       " 'Morton Bend',\n",
       " 'Mountain Creek-Alcovy River',\n",
       " 'Mountain Oak Creek',\n",
       " 'Mud Creek',\n",
       " 'Mule Creek',\n",
       " 'Murphy Creek-Flint River',\n",
       " 'Nancy Creek',\n",
       " 'Nickajack Creek',\n",
       " 'Nimblewill Creek',\n",
       " 'No Business Creek-Yellow River',\n",
       " 'Noontootla Creek',\n",
       " 'North Fork Peachtree Creek',\n",
       " 'Nottely Lake-Nottely River',\n",
       " 'Odessadale',\n",
       " 'Okeefenokee Swamp',\n",
       " 'Oliver Creek',\n",
       " 'Olley Creek',\n",
       " 'Oquina Creek',\n",
       " 'Ossabaw Sound-Frontal Atlantic Ocean',\n",
       " 'Otter Creek',\n",
       " 'Outlet Mill Creek',\n",
       " 'Outlet Okapilco Creek',\n",
       " 'Outlet Savannah River',\n",
       " 'Owltown Creek-Cartecay River',\n",
       " 'Palm Creek-Alcovy River',\n",
       " 'Palmer Branch-Brier Creek',\n",
       " 'Palmer Creek-Etowah River',\n",
       " 'Palmetto Creek',\n",
       " 'Pea Creek',\n",
       " 'Peachtree Creek',\n",
       " 'Peavine Creek',\n",
       " 'Penholoway Swamp-Altamaha River',\n",
       " 'Pennahatchee Creek',\n",
       " 'Pennahatchee Creek-Turkey Creek',\n",
       " 'Perry Creek-Conasuaga River',\n",
       " 'Pettit Creek',\n",
       " 'Pew Creek-Yellow River',\n",
       " 'Philema Branch-Flint River',\n",
       " 'Phillips Pond-Pataula Creek',\n",
       " 'Pigeon Creek',\n",
       " 'Pine Creek-Ochlockonee River',\n",
       " 'Pipemaker Canal',\n",
       " 'Pole Bridge Creek-South River',\n",
       " 'Possum Creek',\n",
       " 'Powder Springs Creek',\n",
       " 'Proctor Creek-Chattahoochee River',\n",
       " 'Rainy Creek-Okapilco Creek',\n",
       " 'Rapier Mill Creek-Nottely River',\n",
       " 'Raulerson Swamp-Satilla River',\n",
       " 'Redland Creek',\n",
       " 'Reed Bingham Park Lake',\n",
       " 'Reedy Creek-Alapaha River',\n",
       " 'Reedy Creek-Canoochee River',\n",
       " 'Reedy Creek-Gum Swamp Creek',\n",
       " 'Riggin Creek-Etowah River',\n",
       " 'Rigsby Lake-Big Slough',\n",
       " 'Robinson Creek',\n",
       " 'Rock Creek',\n",
       " 'Rock Pond-Big Slough',\n",
       " 'Rocky Branch-Canoochee River',\n",
       " 'Rocky Creek',\n",
       " 'Rocky Creek-Jackson Lake',\n",
       " 'Rocky Creek-Johns Creek',\n",
       " 'Rocky Creek-Little River',\n",
       " 'Rose Creek',\n",
       " 'Rose Creek-Potato Creek',\n",
       " 'Rose Creek-Satilla River',\n",
       " 'Rottenwood Creek',\n",
       " 'Rubes Creek',\n",
       " 'Sabbath Creek-Ocmulgee River',\n",
       " 'Saint Andrew Sound-Frontal Atlantic Ocean',\n",
       " 'Saint Peters Bluff-Ogeechee River',\n",
       " 'Salt Creek-Little Ogeechee River',\n",
       " 'Sandy Creek',\n",
       " 'Sandy Mount Creek',\n",
       " 'Sapelo Sound-Frontal Atlantic Ocean',\n",
       " 'Sasser Landing Cemetary-Alapaha River',\n",
       " 'Scull Shoal Creek-Broad River',\n",
       " 'Shaddock Creek-Oconee River',\n",
       " 'Shoal Creek',\n",
       " 'Shoal Creek-Alcovy River',\n",
       " 'Shoal Creek-Oconee River',\n",
       " 'Shoal Creek-South River',\n",
       " 'Shooting Creek',\n",
       " 'Shrimp Creek-Ogeechee River',\n",
       " 'Silver Creek',\n",
       " 'Simon Creek-Fifteen Mile Creek',\n",
       " 'Simpson Creek',\n",
       " 'Sixmile Creek',\n",
       " 'Smith Creek-Chattahoochee River',\n",
       " 'Smith Lake-Ohoopee River',\n",
       " 'Smithee Jack Creek-Hodchodkee Creek',\n",
       " 'Smithwick Creek-Etowah River',\n",
       " 'Smut Branch-Satilla River',\n",
       " 'Snake Creek-Oostanaula River',\n",
       " 'Snapfinger Creek',\n",
       " 'Snapping Shoals Creek',\n",
       " 'Snuff Box Swamp-Buffalo Swamp',\n",
       " 'Soap Creek',\n",
       " 'Soap Creek-Chattahoochee River',\n",
       " 'Sope Creek',\n",
       " 'South Fork Peachtree Creek',\n",
       " 'South River-Jackson Lake',\n",
       " 'Sparkman Creek',\n",
       " 'Spring Branch-Spring Creek',\n",
       " 'Spring Creek',\n",
       " 'Spring Creek-Lake Seminole',\n",
       " 'Spring Mill Branch-Buckhead Creek',\n",
       " 'Standing Boy Creek',\n",
       " 'Stanley Branch',\n",
       " 'Steel Creek-Williamson Swamp Creek',\n",
       " 'Sterling Creek-Ogeechee River',\n",
       " 'Stiles Creek-Etowah River',\n",
       " 'Stockton Creek-North Oconee River',\n",
       " 'Stone Mountain Creek',\n",
       " 'Strouds Creek-Alcovy River',\n",
       " 'Sugar Creek',\n",
       " 'Sugar Creek-South River',\n",
       " 'Sulpher Spring Branch-Beaverdam Creek',\n",
       " 'Suwanee Creek',\n",
       " 'Suwannee Creek',\n",
       " 'Sweetwater Creek',\n",
       " 'Taliaferro Creek',\n",
       " 'Tate Creek-Chestatee River',\n",
       " 'Taylor Creek',\n",
       " 'Thompson Creek-Towaliga River',\n",
       " 'Thompson Mill Creek-Ocmulgee River',\n",
       " 'Tiger Creek',\n",
       " 'Tiger Creek-Upatoi Creek',\n",
       " 'Tiger Creek-Withlacoochee River',\n",
       " 'Tobler Creek-Oconee River',\n",
       " 'Town Creek',\n",
       " 'Town Creek-Oostanaula River',\n",
       " 'Town of Bartlett-Buck Creek',\n",
       " 'Town of Birmingham-Little River',\n",
       " 'Town of Colquitt-Spring Creek',\n",
       " 'Town of Pelham-Big Slough',\n",
       " 'Town of Webb-Coosawattee River',\n",
       " 'Trail Creek-North Oconee River',\n",
       " 'Troublesome Creek-Towaliga River',\n",
       " 'Tuggle Creek-Chattahoochee River',\n",
       " 'Turkey Creek-Appalachee River',\n",
       " 'Turkey Creek-Flint River',\n",
       " 'Turniptown Creek-Ellijay River',\n",
       " 'Turnpike Creek',\n",
       " 'Turtle River',\n",
       " 'Turtle River-South Brunswick River',\n",
       " 'Twentynine Mile Creek',\n",
       " 'Uchee Creek',\n",
       " 'Upper Amicalola Creek',\n",
       " 'Upper Aucilla River',\n",
       " 'Upper Barnetts Creek',\n",
       " 'Upper Big Cotton Indian Creek',\n",
       " 'Upper Big Creek',\n",
       " 'Upper Big Haynes Creek',\n",
       " 'Upper Big Indian Creek',\n",
       " 'Upper Brasstown Creek',\n",
       " 'Upper Cemochehobee Creek',\n",
       " 'Upper Chattooga River',\n",
       " 'Upper Elkins Creek',\n",
       " 'Upper Euharlee Creek',\n",
       " 'Upper Horse Creek',\n",
       " 'Upper Jacks Creek',\n",
       " 'Upper Kiokee Creek',\n",
       " 'Upper Lake Blackshear',\n",
       " 'Upper Lake Sidney Lanier',\n",
       " 'Upper Lanahassee Creek',\n",
       " 'Upper Line Creek',\n",
       " 'Upper Little Cotton Indian Creek',\n",
       " 'Upper Long Cane Creek',\n",
       " 'Upper Mountain Creek',\n",
       " 'Upper Mulberry River',\n",
       " 'Upper New River',\n",
       " 'Upper Noonday Creek',\n",
       " 'Upper North Newport River',\n",
       " 'Upper Noses Creek',\n",
       " 'Upper Racoon Creek',\n",
       " 'Upper Rooty Creek',\n",
       " 'Upper Settingdown Creek',\n",
       " 'Upper Shoal Creek',\n",
       " 'Upper Soquee River',\n",
       " 'Upper South Chickamauga Creek',\n",
       " 'Upper South Newport River',\n",
       " 'Upper Spanish Creek',\n",
       " 'Upper Stekoa Creek',\n",
       " 'Upper Sweetwater Creek',\n",
       " 'Upper Tesnatee Creek',\n",
       " 'Upper Walnut Creek',\n",
       " 'Upper Warwoman Creek',\n",
       " 'Upper White Oak Creek',\n",
       " 'Upper Whitewater Creek',\n",
       " 'Utoy Creek',\n",
       " 'Valdosta-Withlacoochee River',\n",
       " 'Vernon River',\n",
       " 'Wahoo Creek',\n",
       " 'Walden Branch-Ogeechee River',\n",
       " 'Ward Creek-Etowah River',\n",
       " 'Wassaw Sound-Frontal Atlantic Ocean',\n",
       " 'Watson Creek-Ohoopee River',\n",
       " 'Webb Creek-Coosa River',\n",
       " 'Wells Mill Creek',\n",
       " 'West Bainbridge-Flint River',\n",
       " 'West Fork Chattooga River',\n",
       " 'West Fork Little River',\n",
       " 'White Oak Creek',\n",
       " 'White Oak Creek-Chattahoochee River',\n",
       " 'Whitewater Creek',\n",
       " 'Wildcat Creek',\n",
       " 'Wildcat Creek-Appalachee River',\n",
       " 'Wildcat Creek-Oconee River',\n",
       " 'Wilkey Creek-Pataula Creek',\n",
       " 'Willbanks Branch-Coosawattee River',\n",
       " 'Willeo Creek',\n",
       " 'Wilmington River',\n",
       " 'Wilscot Creek-Toccoa River',\n",
       " 'Wilson Creek-Chattahoochee River',\n",
       " 'Wilson Creek-West Point Lake',\n",
       " 'Wise Creek-Ocmulgee River',\n",
       " 'Wolf Creek',\n",
       " 'Wolf Creek-Muckalee Creek',\n",
       " 'Wolf Creek-Toccoa River',\n",
       " 'Wolf Creek-West Point Lake',\n",
       " 'Woodward Creek',\n",
       " 'Wrights Creek-Alcovy River',\n",
       " 'Yahoola Creek',\n",
       " 'Yam Grandy Creek',\n",
       " 'Yellow Creek-Chestatee River',\n",
       " 'Yellow Creek-Etowah River',\n",
       " 'Yellow Water Creek',\n",
       " 'Yellowjacket Creek-West Point Lake',\n",
       " 'Young Swamp-Buck Hill Swamp',\n",
       " 'Youngcane Creek',\n",
       " 'Zachry Creek-Chattahoochee River'}"
      ]
     },
     "execution_count": 420,
     "metadata": {},
     "output_type": "execute_result"
    }
   ],
   "source": [
    "set([name for name in wbds if name is not None])"
   ]
  },
  {
   "cell_type": "markdown",
   "metadata": {},
   "source": [
    "## Add watershed domain as a new column"
   ]
  },
  {
   "cell_type": "code",
   "execution_count": 421,
   "metadata": {},
   "outputs": [],
   "source": [
    "df = df.assign(wbd=wbds)"
   ]
  },
  {
   "cell_type": "markdown",
   "metadata": {},
   "source": [
    "Do 'None' WBD values correspond only to measurements outside of GA?\n",
    "\n",
    "Do some correspond to the apparently non-covered areas in the GA map?"
   ]
  },
  {
   "cell_type": "code",
   "execution_count": 423,
   "metadata": {},
   "outputs": [],
   "source": [
    "no_wbd_df = df[df['wbd'].isnull()]"
   ]
  },
  {
   "cell_type": "code",
   "execution_count": 424,
   "metadata": {},
   "outputs": [
    {
     "data": {
      "text/plain": [
       "4237"
      ]
     },
     "execution_count": 424,
     "metadata": {},
     "output_type": "execute_result"
    }
   ],
   "source": [
    "len(no_wbd_df)"
   ]
  },
  {
   "cell_type": "code",
   "execution_count": 425,
   "metadata": {},
   "outputs": [
    {
     "data": {
      "text/plain": [
       "Florida           1695\n",
       "South Carolina    1196\n",
       "North Carolina     794\n",
       "Tennessee          358\n",
       "Alabama            144\n",
       "Georgia             38\n",
       "Name: state, dtype: int64"
      ]
     },
     "execution_count": 425,
     "metadata": {},
     "output_type": "execute_result"
    }
   ],
   "source": [
    "no_wbd_df['state'].value_counts()"
   ]
  },
  {
   "cell_type": "code",
   "execution_count": 426,
   "metadata": {},
   "outputs": [],
   "source": [
    "no_wbd_ga_df = no_wbd_df[no_wbd_df['state'] =='Georgia']"
   ]
  },
  {
   "cell_type": "code",
   "execution_count": 428,
   "metadata": {},
   "outputs": [
    {
     "data": {
      "text/plain": [
       "Tybee Island Beach    21\n",
       "North Beach           17\n",
       "Name: SiteName, dtype: int64"
      ]
     },
     "execution_count": 428,
     "metadata": {},
     "output_type": "execute_result"
    }
   ],
   "source": [
    "no_wbd_ga_df['SiteName'].value_counts()"
   ]
  },
  {
   "cell_type": "markdown",
   "metadata": {},
   "source": [
    "Result:\n",
    " - This validates that the only issue with WBDs was graphing-related and that in fact all GA locations apart from Tybee Island Beach and North Beach match a WBD"
   ]
  },
  {
   "cell_type": "markdown",
   "metadata": {},
   "source": [
    "Conclusion:\n",
    " - We should remove all records not corresponding to a GA watershed whose state field is not GA\n",
    " - Note that this protects the two Beach locations with no WBD, and retains those non-GA locations that correspond to in-GA watersheds."
   ]
  },
  {
   "cell_type": "code",
   "execution_count": 429,
   "metadata": {},
   "outputs": [],
   "source": [
    "non_ga_wbd_df = no_wbd_df[no_wbd_df['state'] != 'Georgia']"
   ]
  },
  {
   "cell_type": "code",
   "execution_count": 430,
   "metadata": {},
   "outputs": [
    {
     "data": {
      "text/plain": [
       "4199"
      ]
     },
     "execution_count": 430,
     "metadata": {},
     "output_type": "execute_result"
    }
   ],
   "source": [
    "len(non_ga_wbd_df)"
   ]
  },
  {
   "cell_type": "code",
   "execution_count": 431,
   "metadata": {},
   "outputs": [],
   "source": [
    "df.drop(index=non_ga_wbd_df.index, inplace=True)"
   ]
  },
  {
   "cell_type": "code",
   "execution_count": 432,
   "metadata": {},
   "outputs": [],
   "source": [
    "# check result\n",
    "assert len(df[df['wbd'].isnull()]) == 38"
   ]
  },
  {
   "cell_type": "code",
   "execution_count": 86,
   "metadata": {},
   "outputs": [],
   "source": [
    "def make_plot(fips, gdf):\n",
    "    #fig = go.Figure(go.Scattergeo())\n",
    "    fig = ff.create_choropleth(\n",
    "        fips=fips,\n",
    "        values=np.zeros(len(fips)),\n",
    "        scope=['Georgia'],\n",
    "        show_state_data=True,\n",
    "        #colorscale=\"Reds\", #colorscale,\n",
    "        #binning_endpoints=endpts,\n",
    "        round_legend_values=True,\n",
    "        plot_bgcolor='rgb(229,229,229)',\n",
    "        paper_bgcolor='rgb(229,229,229)',\n",
    "        #legend_title=title,\n",
    "        showlegend = False,\n",
    "        county_outline={'color': 'rgb(255,255,255)', 'width': 0.5},\n",
    "        exponent_format=False,\n",
    "    )\n",
    "    fig.layout.template = None\n",
    "    fig.add_scattergeo(\n",
    "        lat = gdf.geometry.x,\n",
    "        lon = gdf.geometry.y,\n",
    "        hoverinfo='none',\n",
    "        #mode = 'markers', # 'markers+text'\n",
    "        #text = texts,\n",
    "        marker_size = 2,\n",
    "        marker_color = 'rgb(235, 0, 100)'\n",
    "    )\n",
    "    hover_ix, hover = [(ix, t) for ix, t in enumerate(fig['data']) if t.text][0]\n",
    "    if len(hover['text']) != len(GA_map):\n",
    "        # hack fixes to hovertext while waiting on Issue 1429 to be fixed\n",
    "        # https://github.com/plotly/plotly.py/issues/1429#issuecomment-506925578\n",
    "        ht = pd.Series(hover['text'])\n",
    "\n",
    "        no_dupe_ix = ht.index[~ht.duplicated()]\n",
    "\n",
    "        hover_x_deduped = np.array(hover['x'])[no_dupe_ix]\n",
    "        hover_y_deduped = np.array(hover['y'])[no_dupe_ix]\n",
    "\n",
    "        new_hover_x = [x if type(x) == float else x[0] for x in hover_x_deduped]\n",
    "        new_hover_y = [y if type(y) == float else y[0] for y in hover_y_deduped]\n",
    "\n",
    "        fig['data'][hover_ix]['text'] = ht.drop_duplicates()\n",
    "        fig['data'][hover_ix]['x'] = new_hover_x\n",
    "        fig['data'][hover_ix]['y'] = new_hover_y\n",
    "    fig.show()"
   ]
  },
  {
   "cell_type": "code",
   "execution_count": null,
   "metadata": {},
   "outputs": [],
   "source": [
    "# doesn't properly scope to GA, shows whole world\n",
    "# at least it's clear where the data is restricted to!\n",
    "make_plot(fips, gdf)"
   ]
  },
  {
   "cell_type": "markdown",
   "metadata": {},
   "source": [
    "## Lookup GIS place names associated with the recordings"
   ]
  },
  {
   "cell_type": "markdown",
   "metadata": {},
   "source": [
    "Assumes that all NULL locations are already removed from the main dataframe"
   ]
  },
  {
   "cell_type": "code",
   "execution_count": 40,
   "metadata": {},
   "outputs": [],
   "source": [
    "loc_lookup = fetch_geo_locs()"
   ]
  },
  {
   "cell_type": "code",
   "execution_count": 41,
   "metadata": {},
   "outputs": [
    {
     "data": {
      "text/plain": [
       "'Florida'"
      ]
     },
     "execution_count": 41,
     "metadata": {},
     "output_type": "execute_result"
    }
   ],
   "source": [
    "loc_lookup[3]['State']['name']"
   ]
  },
  {
   "cell_type": "code",
   "execution_count": 42,
   "metadata": {},
   "outputs": [
    {
     "data": {
      "text/plain": [
       "'Georgia'"
      ]
     },
     "execution_count": 42,
     "metadata": {},
     "output_type": "execute_result"
    }
   ],
   "source": [
    "loc_lookup[155]['State']['name']"
   ]
  },
  {
   "cell_type": "markdown",
   "metadata": {},
   "source": [
    "Example location info"
   ]
  },
  {
   "cell_type": "code",
   "execution_count": 43,
   "metadata": {},
   "outputs": [
    {
     "data": {
      "text/plain": [
       "{'Block': {'FIPS': None, 'bbox': None},\n",
       " 'County': {'FIPS': None, 'name': None},\n",
       " 'State': {'FIPS': None, 'code': None, 'name': None},\n",
       " 'status': 'OK',\n",
       " 'executionTime': '0'}"
      ]
     },
     "execution_count": 43,
     "metadata": {},
     "output_type": "execute_result"
    }
   ],
   "source": [
    "loc_lookup[0]"
   ]
  },
  {
   "cell_type": "code",
   "execution_count": 44,
   "metadata": {},
   "outputs": [
    {
     "data": {
      "text/plain": [
       "{'messages': [\"FCC0001: The coordinate lies on the boundary of mulitple blocks, the block contains the clicked location is selected. For a complete list use showall=true to display 'intersection' element in the Block\"],\n",
       " 'Block': {'FIPS': '370399301002000',\n",
       "  'bbox': [-83.7769, 35.212586, -83.702902, 35.25766]},\n",
       " 'County': {'FIPS': '37039', 'name': 'Cherokee'},\n",
       " 'State': {'FIPS': '37', 'code': 'NC', 'name': 'North Carolina'},\n",
       " 'status': 'OK',\n",
       " 'executionTime': '0'}"
      ]
     },
     "execution_count": 44,
     "metadata": {},
     "output_type": "execute_result"
    }
   ],
   "source": [
    "loc_lookup[-1]"
   ]
  },
  {
   "cell_type": "code",
   "execution_count": 267,
   "metadata": {},
   "outputs": [
    {
     "data": {
      "text/plain": [
       "426.12898114111164"
      ]
     },
     "execution_count": 267,
     "metadata": {},
     "output_type": "execute_result"
    }
   ],
   "source": [
    "distance.distance(loc_pairs[3], loc_pairs[155]).miles"
   ]
  },
  {
   "cell_type": "code",
   "execution_count": 318,
   "metadata": {},
   "outputs": [],
   "source": [
    "df.reset_index(inplace=True, drop=True)"
   ]
  },
  {
   "cell_type": "code",
   "execution_count": 329,
   "metadata": {},
   "outputs": [
    {
     "name": "stderr",
     "output_type": "stream",
     "text": [
      "100%|██████████| 63797/63797 [00:14<00:00, 4500.64it/s]\n"
     ]
    }
   ],
   "source": [
    "row_loc_idxs = []\n",
    "loc_pairs_for_df = []\n",
    "seen_locs = {} # cache given high number of dupes\n",
    "\n",
    "# for any row in full dataset, identify which unique location result\n",
    "for idx in tqdm(range(len(df))):\n",
    "    siteloc = df.iloc[idx]['SiteLocation']\n",
    "    # lat, lon pair\n",
    "    loc = tuple([float(x) for x in siteloc.split()])\n",
    "    try:\n",
    "        loc_idx = seen_locs[siteloc]\n",
    "    except KeyError:\n",
    "        # guaranteed to be unique by virtue of loc_pairs being created as unique values\n",
    "        found_idxs = np.where(loc_pairs==loc)[0]\n",
    "        if len(found_idxs) == 2 and len(set(found_idxs)) == 1:\n",
    "            loc_idx = found_idxs[0]\n",
    "        else:\n",
    "            # maybe one coord matched but can't be both, so all idxs will have count of max 1 except for one\n",
    "            loc_idx, count = Counter(found_idxs).most_common(1)[0]\n",
    "            assert count == 2\n",
    "        seen_locs[siteloc] = loc_idx\n",
    "    row_loc_idxs.append(loc_idx)\n",
    "    loc_pairs_for_df.append(loc)"
   ]
  },
  {
   "cell_type": "code",
   "execution_count": 313,
   "metadata": {},
   "outputs": [],
   "source": [
    "states_for_df = []\n",
    "counties_for_df = []\n",
    "for i in row_loc_idxs:\n",
    "    states_for_df.append(loc_lookup[i]['State']['name'])\n",
    "    counties_for_df.append(loc_lookup[i]['County']['name'])"
   ]
  },
  {
   "cell_type": "code",
   "execution_count": 375,
   "metadata": {},
   "outputs": [],
   "source": [
    "df.insert(3, 'long', np.array(loc_pairs_for_df).T[1])\n",
    "df.insert(3, 'lat', np.array(loc_pairs_for_df).T[0])\n",
    "df.insert(3, 'county', counties_for_df)\n",
    "df.insert(3, 'state', states_for_df)"
   ]
  },
  {
   "cell_type": "code",
   "execution_count": 334,
   "metadata": {},
   "outputs": [
    {
     "data": {
      "text/html": [
       "<div>\n",
       "<style scoped>\n",
       "    .dataframe tbody tr th:only-of-type {\n",
       "        vertical-align: middle;\n",
       "    }\n",
       "\n",
       "    .dataframe tbody tr th {\n",
       "        vertical-align: top;\n",
       "    }\n",
       "\n",
       "    .dataframe thead th {\n",
       "        text-align: right;\n",
       "    }\n",
       "</style>\n",
       "<table border=\"1\" class=\"dataframe\">\n",
       "  <thead>\n",
       "    <tr style=\"text-align: right;\">\n",
       "      <th></th>\n",
       "      <th>lat</th>\n",
       "      <th>long</th>\n",
       "      <th>SiteLocation</th>\n",
       "    </tr>\n",
       "  </thead>\n",
       "  <tbody>\n",
       "    <tr>\n",
       "      <th>63792</th>\n",
       "      <td>32.0067</td>\n",
       "      <td>-84.2266</td>\n",
       "      <td>32.0067  -84.2266</td>\n",
       "    </tr>\n",
       "    <tr>\n",
       "      <th>63793</th>\n",
       "      <td>31.2387</td>\n",
       "      <td>-82.3231</td>\n",
       "      <td>31.2387  -82.3231</td>\n",
       "    </tr>\n",
       "    <tr>\n",
       "      <th>63794</th>\n",
       "      <td>31.2933</td>\n",
       "      <td>-81.9571</td>\n",
       "      <td>31.2933  -81.9571</td>\n",
       "    </tr>\n",
       "    <tr>\n",
       "      <th>63795</th>\n",
       "      <td>31.2196</td>\n",
       "      <td>-81.8677</td>\n",
       "      <td>31.2196  -81.8677</td>\n",
       "    </tr>\n",
       "    <tr>\n",
       "      <th>63796</th>\n",
       "      <td>31.2400</td>\n",
       "      <td>-81.8634</td>\n",
       "      <td>31.24  -81.8634</td>\n",
       "    </tr>\n",
       "  </tbody>\n",
       "</table>\n",
       "</div>"
      ],
      "text/plain": [
       "           lat     long       SiteLocation\n",
       "63792  32.0067 -84.2266  32.0067  -84.2266\n",
       "63793  31.2387 -82.3231  31.2387  -82.3231\n",
       "63794  31.2933 -81.9571  31.2933  -81.9571\n",
       "63795  31.2196 -81.8677  31.2196  -81.8677\n",
       "63796  31.2400 -81.8634    31.24  -81.8634"
      ]
     },
     "execution_count": 334,
     "metadata": {},
     "output_type": "execute_result"
    }
   ],
   "source": [
    "df[['lat', 'long', 'SiteLocation']].tail()"
   ]
  },
  {
   "cell_type": "markdown",
   "metadata": {},
   "source": [
    "We'll keep \"SiteLocation\" to allow easy checking of unique lat-long pairs"
   ]
  },
  {
   "cell_type": "markdown",
   "metadata": {},
   "source": [
    "# Checkpoint for stage 2 of cleaning (geo)"
   ]
  },
  {
   "cell_type": "code",
   "execution_count": 434,
   "metadata": {},
   "outputs": [],
   "source": [
    "df.to_csv(\"export_dataframe_stage2.csv\", index=False)"
   ]
  },
  {
   "cell_type": "markdown",
   "metadata": {},
   "source": [
    "## Check on recorded locations from outside the USA!"
   ]
  },
  {
   "cell_type": "code",
   "execution_count": 186,
   "metadata": {},
   "outputs": [
    {
     "data": {
      "text/plain": [
       "3"
      ]
     },
     "execution_count": 186,
     "metadata": {},
     "output_type": "execute_result"
    }
   ],
   "source": [
    "non_usa_count = []\n",
    "for i, d in enumerate(loc_lookup):\n",
    "    if d['State']['FIPS'] is None:\n",
    "        non_usa_count.append(i)\n",
    "len(non_usa_count)"
   ]
  },
  {
   "cell_type": "code",
   "execution_count": 279,
   "metadata": {},
   "outputs": [
    {
     "data": {
      "text/plain": [
       "[0, 1, 379]"
      ]
     },
     "execution_count": 279,
     "metadata": {},
     "output_type": "execute_result"
    }
   ],
   "source": [
    "non_usa_count"
   ]
  },
  {
   "cell_type": "markdown",
   "metadata": {},
   "source": [
    "Let's find them in the dataframe"
   ]
  },
  {
   "cell_type": "code",
   "execution_count": 336,
   "metadata": {},
   "outputs": [
    {
     "data": {
      "text/html": [
       "<div>\n",
       "<style scoped>\n",
       "    .dataframe tbody tr th:only-of-type {\n",
       "        vertical-align: middle;\n",
       "    }\n",
       "\n",
       "    .dataframe tbody tr th {\n",
       "        vertical-align: top;\n",
       "    }\n",
       "\n",
       "    .dataframe thead th {\n",
       "        text-align: right;\n",
       "    }\n",
       "</style>\n",
       "<table border=\"1\" class=\"dataframe\">\n",
       "  <thead>\n",
       "    <tr style=\"text-align: right;\">\n",
       "      <th></th>\n",
       "      <th>group_rid</th>\n",
       "      <th>GroupName</th>\n",
       "      <th>site_rid</th>\n",
       "      <th>state</th>\n",
       "      <th>county</th>\n",
       "      <th>long</th>\n",
       "      <th>lat</th>\n",
       "      <th>SiteName</th>\n",
       "      <th>SiteLocation</th>\n",
       "      <th>event_rid</th>\n",
       "      <th>...</th>\n",
       "      <th>hold_end_datetime</th>\n",
       "      <th>min_temp</th>\n",
       "      <th>max_temp</th>\n",
       "      <th>three_M_plate</th>\n",
       "      <th>ecoli_idexx</th>\n",
       "      <th>fecal_coliform</th>\n",
       "      <th>ecoli_other</th>\n",
       "      <th>ecoli_other_unit</th>\n",
       "      <th>comments</th>\n",
       "      <th>warnings</th>\n",
       "    </tr>\n",
       "  </thead>\n",
       "  <tbody>\n",
       "    <tr>\n",
       "      <th>35029</th>\n",
       "      <td>2359</td>\n",
       "      <td>Stream'n at Pin Point</td>\n",
       "      <td>4557</td>\n",
       "      <td>None</td>\n",
       "      <td>None</td>\n",
       "      <td>-96.0333</td>\n",
       "      <td>18.97</td>\n",
       "      <td>Gullah Gullah Creek</td>\n",
       "      <td>18.97  -96.0333</td>\n",
       "      <td>56008</td>\n",
       "      <td>...</td>\n",
       "      <td>NaN</td>\n",
       "      <td>NaN</td>\n",
       "      <td>NaN</td>\n",
       "      <td>NaN</td>\n",
       "      <td>NaN</td>\n",
       "      <td>NaN</td>\n",
       "      <td>NaN</td>\n",
       "      <td>NaN</td>\n",
       "      <td>NaN</td>\n",
       "      <td>NaN</td>\n",
       "    </tr>\n",
       "    <tr>\n",
       "      <th>35410</th>\n",
       "      <td>2359</td>\n",
       "      <td>Stream'n at Pin Point</td>\n",
       "      <td>4557</td>\n",
       "      <td>None</td>\n",
       "      <td>None</td>\n",
       "      <td>-96.0333</td>\n",
       "      <td>18.97</td>\n",
       "      <td>Gullah Gullah Creek</td>\n",
       "      <td>18.97  -96.0333</td>\n",
       "      <td>56439</td>\n",
       "      <td>...</td>\n",
       "      <td>NaN</td>\n",
       "      <td>NaN</td>\n",
       "      <td>NaN</td>\n",
       "      <td>NaN</td>\n",
       "      <td>NaN</td>\n",
       "      <td>NaN</td>\n",
       "      <td>NaN</td>\n",
       "      <td>NaN</td>\n",
       "      <td>NaN</td>\n",
       "      <td>NaN</td>\n",
       "    </tr>\n",
       "    <tr>\n",
       "      <th>35411</th>\n",
       "      <td>2359</td>\n",
       "      <td>Stream'n at Pin Point</td>\n",
       "      <td>4557</td>\n",
       "      <td>None</td>\n",
       "      <td>None</td>\n",
       "      <td>-96.0333</td>\n",
       "      <td>18.97</td>\n",
       "      <td>Gullah Gullah Creek</td>\n",
       "      <td>18.97  -96.0333</td>\n",
       "      <td>56440</td>\n",
       "      <td>...</td>\n",
       "      <td>NaN</td>\n",
       "      <td>NaN</td>\n",
       "      <td>NaN</td>\n",
       "      <td>NaN</td>\n",
       "      <td>NaN</td>\n",
       "      <td>NaN</td>\n",
       "      <td>NaN</td>\n",
       "      <td>NaN</td>\n",
       "      <td>NaN</td>\n",
       "      <td>NaN</td>\n",
       "    </tr>\n",
       "    <tr>\n",
       "      <th>36391</th>\n",
       "      <td>2359</td>\n",
       "      <td>Stream'n at Pin Point</td>\n",
       "      <td>4557</td>\n",
       "      <td>None</td>\n",
       "      <td>None</td>\n",
       "      <td>-96.0333</td>\n",
       "      <td>18.97</td>\n",
       "      <td>Gullah Gullah Creek</td>\n",
       "      <td>18.97  -96.0333</td>\n",
       "      <td>57519</td>\n",
       "      <td>...</td>\n",
       "      <td>NaN</td>\n",
       "      <td>NaN</td>\n",
       "      <td>NaN</td>\n",
       "      <td>NaN</td>\n",
       "      <td>NaN</td>\n",
       "      <td>NaN</td>\n",
       "      <td>NaN</td>\n",
       "      <td>NaN</td>\n",
       "      <td>NaN</td>\n",
       "      <td>NaN</td>\n",
       "    </tr>\n",
       "    <tr>\n",
       "      <th>37542</th>\n",
       "      <td>2359</td>\n",
       "      <td>Stream'n at Pin Point</td>\n",
       "      <td>4557</td>\n",
       "      <td>None</td>\n",
       "      <td>None</td>\n",
       "      <td>-96.0333</td>\n",
       "      <td>18.97</td>\n",
       "      <td>Gullah Gullah Creek</td>\n",
       "      <td>18.97  -96.0333</td>\n",
       "      <td>59997</td>\n",
       "      <td>...</td>\n",
       "      <td>NaN</td>\n",
       "      <td>NaN</td>\n",
       "      <td>NaN</td>\n",
       "      <td>NaN</td>\n",
       "      <td>NaN</td>\n",
       "      <td>NaN</td>\n",
       "      <td>NaN</td>\n",
       "      <td>NaN</td>\n",
       "      <td>NaN</td>\n",
       "      <td>NaN</td>\n",
       "    </tr>\n",
       "  </tbody>\n",
       "</table>\n",
       "<p>5 rows × 89 columns</p>\n",
       "</div>"
      ],
      "text/plain": [
       "       group_rid              GroupName  site_rid state county     long  \\\n",
       "35029       2359  Stream'n at Pin Point      4557  None   None -96.0333   \n",
       "35410       2359  Stream'n at Pin Point      4557  None   None -96.0333   \n",
       "35411       2359  Stream'n at Pin Point      4557  None   None -96.0333   \n",
       "36391       2359  Stream'n at Pin Point      4557  None   None -96.0333   \n",
       "37542       2359  Stream'n at Pin Point      4557  None   None -96.0333   \n",
       "\n",
       "         lat             SiteName     SiteLocation  event_rid  ...  \\\n",
       "35029  18.97  Gullah Gullah Creek  18.97  -96.0333      56008  ...   \n",
       "35410  18.97  Gullah Gullah Creek  18.97  -96.0333      56439  ...   \n",
       "35411  18.97  Gullah Gullah Creek  18.97  -96.0333      56440  ...   \n",
       "36391  18.97  Gullah Gullah Creek  18.97  -96.0333      57519  ...   \n",
       "37542  18.97  Gullah Gullah Creek  18.97  -96.0333      59997  ...   \n",
       "\n",
       "      hold_end_datetime  min_temp  max_temp  three_M_plate ecoli_idexx  \\\n",
       "35029               NaN       NaN       NaN            NaN         NaN   \n",
       "35410               NaN       NaN       NaN            NaN         NaN   \n",
       "35411               NaN       NaN       NaN            NaN         NaN   \n",
       "36391               NaN       NaN       NaN            NaN         NaN   \n",
       "37542               NaN       NaN       NaN            NaN         NaN   \n",
       "\n",
       "      fecal_coliform  ecoli_other  ecoli_other_unit  comments  warnings  \n",
       "35029            NaN          NaN               NaN       NaN       NaN  \n",
       "35410            NaN          NaN               NaN       NaN       NaN  \n",
       "35411            NaN          NaN               NaN       NaN       NaN  \n",
       "36391            NaN          NaN               NaN       NaN       NaN  \n",
       "37542            NaN          NaN               NaN       NaN       NaN  \n",
       "\n",
       "[5 rows x 89 columns]"
      ]
     },
     "execution_count": 336,
     "metadata": {},
     "output_type": "execute_result"
    }
   ],
   "source": [
    "df[df['long'] < -96]"
   ]
  },
  {
   "cell_type": "code",
   "execution_count": 337,
   "metadata": {},
   "outputs": [
    {
     "data": {
      "text/html": [
       "<div>\n",
       "<style scoped>\n",
       "    .dataframe tbody tr th:only-of-type {\n",
       "        vertical-align: middle;\n",
       "    }\n",
       "\n",
       "    .dataframe tbody tr th {\n",
       "        vertical-align: top;\n",
       "    }\n",
       "\n",
       "    .dataframe thead th {\n",
       "        text-align: right;\n",
       "    }\n",
       "</style>\n",
       "<table border=\"1\" class=\"dataframe\">\n",
       "  <thead>\n",
       "    <tr style=\"text-align: right;\">\n",
       "      <th></th>\n",
       "      <th>group_rid</th>\n",
       "      <th>GroupName</th>\n",
       "      <th>site_rid</th>\n",
       "      <th>state</th>\n",
       "      <th>county</th>\n",
       "      <th>long</th>\n",
       "      <th>lat</th>\n",
       "      <th>SiteName</th>\n",
       "      <th>SiteLocation</th>\n",
       "      <th>event_rid</th>\n",
       "      <th>...</th>\n",
       "      <th>hold_end_datetime</th>\n",
       "      <th>min_temp</th>\n",
       "      <th>max_temp</th>\n",
       "      <th>three_M_plate</th>\n",
       "      <th>ecoli_idexx</th>\n",
       "      <th>fecal_coliform</th>\n",
       "      <th>ecoli_other</th>\n",
       "      <th>ecoli_other_unit</th>\n",
       "      <th>comments</th>\n",
       "      <th>warnings</th>\n",
       "    </tr>\n",
       "  </thead>\n",
       "  <tbody>\n",
       "    <tr>\n",
       "      <th>35029</th>\n",
       "      <td>2359</td>\n",
       "      <td>Stream'n at Pin Point</td>\n",
       "      <td>4557</td>\n",
       "      <td>None</td>\n",
       "      <td>None</td>\n",
       "      <td>-96.0333</td>\n",
       "      <td>18.97</td>\n",
       "      <td>Gullah Gullah Creek</td>\n",
       "      <td>18.97  -96.0333</td>\n",
       "      <td>56008</td>\n",
       "      <td>...</td>\n",
       "      <td>NaN</td>\n",
       "      <td>NaN</td>\n",
       "      <td>NaN</td>\n",
       "      <td>NaN</td>\n",
       "      <td>NaN</td>\n",
       "      <td>NaN</td>\n",
       "      <td>NaN</td>\n",
       "      <td>NaN</td>\n",
       "      <td>NaN</td>\n",
       "      <td>NaN</td>\n",
       "    </tr>\n",
       "    <tr>\n",
       "      <th>35410</th>\n",
       "      <td>2359</td>\n",
       "      <td>Stream'n at Pin Point</td>\n",
       "      <td>4557</td>\n",
       "      <td>None</td>\n",
       "      <td>None</td>\n",
       "      <td>-96.0333</td>\n",
       "      <td>18.97</td>\n",
       "      <td>Gullah Gullah Creek</td>\n",
       "      <td>18.97  -96.0333</td>\n",
       "      <td>56439</td>\n",
       "      <td>...</td>\n",
       "      <td>NaN</td>\n",
       "      <td>NaN</td>\n",
       "      <td>NaN</td>\n",
       "      <td>NaN</td>\n",
       "      <td>NaN</td>\n",
       "      <td>NaN</td>\n",
       "      <td>NaN</td>\n",
       "      <td>NaN</td>\n",
       "      <td>NaN</td>\n",
       "      <td>NaN</td>\n",
       "    </tr>\n",
       "    <tr>\n",
       "      <th>35411</th>\n",
       "      <td>2359</td>\n",
       "      <td>Stream'n at Pin Point</td>\n",
       "      <td>4557</td>\n",
       "      <td>None</td>\n",
       "      <td>None</td>\n",
       "      <td>-96.0333</td>\n",
       "      <td>18.97</td>\n",
       "      <td>Gullah Gullah Creek</td>\n",
       "      <td>18.97  -96.0333</td>\n",
       "      <td>56440</td>\n",
       "      <td>...</td>\n",
       "      <td>NaN</td>\n",
       "      <td>NaN</td>\n",
       "      <td>NaN</td>\n",
       "      <td>NaN</td>\n",
       "      <td>NaN</td>\n",
       "      <td>NaN</td>\n",
       "      <td>NaN</td>\n",
       "      <td>NaN</td>\n",
       "      <td>NaN</td>\n",
       "      <td>NaN</td>\n",
       "    </tr>\n",
       "    <tr>\n",
       "      <th>36391</th>\n",
       "      <td>2359</td>\n",
       "      <td>Stream'n at Pin Point</td>\n",
       "      <td>4557</td>\n",
       "      <td>None</td>\n",
       "      <td>None</td>\n",
       "      <td>-96.0333</td>\n",
       "      <td>18.97</td>\n",
       "      <td>Gullah Gullah Creek</td>\n",
       "      <td>18.97  -96.0333</td>\n",
       "      <td>57519</td>\n",
       "      <td>...</td>\n",
       "      <td>NaN</td>\n",
       "      <td>NaN</td>\n",
       "      <td>NaN</td>\n",
       "      <td>NaN</td>\n",
       "      <td>NaN</td>\n",
       "      <td>NaN</td>\n",
       "      <td>NaN</td>\n",
       "      <td>NaN</td>\n",
       "      <td>NaN</td>\n",
       "      <td>NaN</td>\n",
       "    </tr>\n",
       "    <tr>\n",
       "      <th>37542</th>\n",
       "      <td>2359</td>\n",
       "      <td>Stream'n at Pin Point</td>\n",
       "      <td>4557</td>\n",
       "      <td>None</td>\n",
       "      <td>None</td>\n",
       "      <td>-96.0333</td>\n",
       "      <td>18.97</td>\n",
       "      <td>Gullah Gullah Creek</td>\n",
       "      <td>18.97  -96.0333</td>\n",
       "      <td>59997</td>\n",
       "      <td>...</td>\n",
       "      <td>NaN</td>\n",
       "      <td>NaN</td>\n",
       "      <td>NaN</td>\n",
       "      <td>NaN</td>\n",
       "      <td>NaN</td>\n",
       "      <td>NaN</td>\n",
       "      <td>NaN</td>\n",
       "      <td>NaN</td>\n",
       "      <td>NaN</td>\n",
       "      <td>NaN</td>\n",
       "    </tr>\n",
       "  </tbody>\n",
       "</table>\n",
       "<p>5 rows × 89 columns</p>\n",
       "</div>"
      ],
      "text/plain": [
       "       group_rid              GroupName  site_rid state county     long  \\\n",
       "35029       2359  Stream'n at Pin Point      4557  None   None -96.0333   \n",
       "35410       2359  Stream'n at Pin Point      4557  None   None -96.0333   \n",
       "35411       2359  Stream'n at Pin Point      4557  None   None -96.0333   \n",
       "36391       2359  Stream'n at Pin Point      4557  None   None -96.0333   \n",
       "37542       2359  Stream'n at Pin Point      4557  None   None -96.0333   \n",
       "\n",
       "         lat             SiteName     SiteLocation  event_rid  ...  \\\n",
       "35029  18.97  Gullah Gullah Creek  18.97  -96.0333      56008  ...   \n",
       "35410  18.97  Gullah Gullah Creek  18.97  -96.0333      56439  ...   \n",
       "35411  18.97  Gullah Gullah Creek  18.97  -96.0333      56440  ...   \n",
       "36391  18.97  Gullah Gullah Creek  18.97  -96.0333      57519  ...   \n",
       "37542  18.97  Gullah Gullah Creek  18.97  -96.0333      59997  ...   \n",
       "\n",
       "      hold_end_datetime  min_temp  max_temp  three_M_plate ecoli_idexx  \\\n",
       "35029               NaN       NaN       NaN            NaN         NaN   \n",
       "35410               NaN       NaN       NaN            NaN         NaN   \n",
       "35411               NaN       NaN       NaN            NaN         NaN   \n",
       "36391               NaN       NaN       NaN            NaN         NaN   \n",
       "37542               NaN       NaN       NaN            NaN         NaN   \n",
       "\n",
       "      fecal_coliform  ecoli_other  ecoli_other_unit  comments  warnings  \n",
       "35029            NaN          NaN               NaN       NaN       NaN  \n",
       "35410            NaN          NaN               NaN       NaN       NaN  \n",
       "35411            NaN          NaN               NaN       NaN       NaN  \n",
       "36391            NaN          NaN               NaN       NaN       NaN  \n",
       "37542            NaN          NaN               NaN       NaN       NaN  \n",
       "\n",
       "[5 rows x 89 columns]"
      ]
     },
     "execution_count": 337,
     "metadata": {},
     "output_type": "execute_result"
    }
   ],
   "source": [
    "df[df['group_rid'] == 2359]"
   ]
  },
  {
   "cell_type": "code",
   "execution_count": 338,
   "metadata": {},
   "outputs": [
    {
     "data": {
      "text/html": [
       "<div>\n",
       "<style scoped>\n",
       "    .dataframe tbody tr th:only-of-type {\n",
       "        vertical-align: middle;\n",
       "    }\n",
       "\n",
       "    .dataframe tbody tr th {\n",
       "        vertical-align: top;\n",
       "    }\n",
       "\n",
       "    .dataframe thead th {\n",
       "        text-align: right;\n",
       "    }\n",
       "</style>\n",
       "<table border=\"1\" class=\"dataframe\">\n",
       "  <thead>\n",
       "    <tr style=\"text-align: right;\">\n",
       "      <th></th>\n",
       "      <th>group_rid</th>\n",
       "      <th>GroupName</th>\n",
       "      <th>site_rid</th>\n",
       "      <th>state</th>\n",
       "      <th>county</th>\n",
       "      <th>long</th>\n",
       "      <th>lat</th>\n",
       "      <th>SiteName</th>\n",
       "      <th>SiteLocation</th>\n",
       "      <th>event_rid</th>\n",
       "      <th>...</th>\n",
       "      <th>hold_end_datetime</th>\n",
       "      <th>min_temp</th>\n",
       "      <th>max_temp</th>\n",
       "      <th>three_M_plate</th>\n",
       "      <th>ecoli_idexx</th>\n",
       "      <th>fecal_coliform</th>\n",
       "      <th>ecoli_other</th>\n",
       "      <th>ecoli_other_unit</th>\n",
       "      <th>comments</th>\n",
       "      <th>warnings</th>\n",
       "    </tr>\n",
       "  </thead>\n",
       "  <tbody>\n",
       "    <tr>\n",
       "      <th>35029</th>\n",
       "      <td>2359</td>\n",
       "      <td>Stream'n at Pin Point</td>\n",
       "      <td>4557</td>\n",
       "      <td>None</td>\n",
       "      <td>None</td>\n",
       "      <td>-96.0333</td>\n",
       "      <td>18.97</td>\n",
       "      <td>Gullah Gullah Creek</td>\n",
       "      <td>18.97  -96.0333</td>\n",
       "      <td>56008</td>\n",
       "      <td>...</td>\n",
       "      <td>NaN</td>\n",
       "      <td>NaN</td>\n",
       "      <td>NaN</td>\n",
       "      <td>NaN</td>\n",
       "      <td>NaN</td>\n",
       "      <td>NaN</td>\n",
       "      <td>NaN</td>\n",
       "      <td>NaN</td>\n",
       "      <td>NaN</td>\n",
       "      <td>NaN</td>\n",
       "    </tr>\n",
       "    <tr>\n",
       "      <th>35410</th>\n",
       "      <td>2359</td>\n",
       "      <td>Stream'n at Pin Point</td>\n",
       "      <td>4557</td>\n",
       "      <td>None</td>\n",
       "      <td>None</td>\n",
       "      <td>-96.0333</td>\n",
       "      <td>18.97</td>\n",
       "      <td>Gullah Gullah Creek</td>\n",
       "      <td>18.97  -96.0333</td>\n",
       "      <td>56439</td>\n",
       "      <td>...</td>\n",
       "      <td>NaN</td>\n",
       "      <td>NaN</td>\n",
       "      <td>NaN</td>\n",
       "      <td>NaN</td>\n",
       "      <td>NaN</td>\n",
       "      <td>NaN</td>\n",
       "      <td>NaN</td>\n",
       "      <td>NaN</td>\n",
       "      <td>NaN</td>\n",
       "      <td>NaN</td>\n",
       "    </tr>\n",
       "    <tr>\n",
       "      <th>35411</th>\n",
       "      <td>2359</td>\n",
       "      <td>Stream'n at Pin Point</td>\n",
       "      <td>4557</td>\n",
       "      <td>None</td>\n",
       "      <td>None</td>\n",
       "      <td>-96.0333</td>\n",
       "      <td>18.97</td>\n",
       "      <td>Gullah Gullah Creek</td>\n",
       "      <td>18.97  -96.0333</td>\n",
       "      <td>56440</td>\n",
       "      <td>...</td>\n",
       "      <td>NaN</td>\n",
       "      <td>NaN</td>\n",
       "      <td>NaN</td>\n",
       "      <td>NaN</td>\n",
       "      <td>NaN</td>\n",
       "      <td>NaN</td>\n",
       "      <td>NaN</td>\n",
       "      <td>NaN</td>\n",
       "      <td>NaN</td>\n",
       "      <td>NaN</td>\n",
       "    </tr>\n",
       "    <tr>\n",
       "      <th>36391</th>\n",
       "      <td>2359</td>\n",
       "      <td>Stream'n at Pin Point</td>\n",
       "      <td>4557</td>\n",
       "      <td>None</td>\n",
       "      <td>None</td>\n",
       "      <td>-96.0333</td>\n",
       "      <td>18.97</td>\n",
       "      <td>Gullah Gullah Creek</td>\n",
       "      <td>18.97  -96.0333</td>\n",
       "      <td>57519</td>\n",
       "      <td>...</td>\n",
       "      <td>NaN</td>\n",
       "      <td>NaN</td>\n",
       "      <td>NaN</td>\n",
       "      <td>NaN</td>\n",
       "      <td>NaN</td>\n",
       "      <td>NaN</td>\n",
       "      <td>NaN</td>\n",
       "      <td>NaN</td>\n",
       "      <td>NaN</td>\n",
       "      <td>NaN</td>\n",
       "    </tr>\n",
       "    <tr>\n",
       "      <th>37542</th>\n",
       "      <td>2359</td>\n",
       "      <td>Stream'n at Pin Point</td>\n",
       "      <td>4557</td>\n",
       "      <td>None</td>\n",
       "      <td>None</td>\n",
       "      <td>-96.0333</td>\n",
       "      <td>18.97</td>\n",
       "      <td>Gullah Gullah Creek</td>\n",
       "      <td>18.97  -96.0333</td>\n",
       "      <td>59997</td>\n",
       "      <td>...</td>\n",
       "      <td>NaN</td>\n",
       "      <td>NaN</td>\n",
       "      <td>NaN</td>\n",
       "      <td>NaN</td>\n",
       "      <td>NaN</td>\n",
       "      <td>NaN</td>\n",
       "      <td>NaN</td>\n",
       "      <td>NaN</td>\n",
       "      <td>NaN</td>\n",
       "      <td>NaN</td>\n",
       "    </tr>\n",
       "  </tbody>\n",
       "</table>\n",
       "<p>5 rows × 89 columns</p>\n",
       "</div>"
      ],
      "text/plain": [
       "       group_rid              GroupName  site_rid state county     long  \\\n",
       "35029       2359  Stream'n at Pin Point      4557  None   None -96.0333   \n",
       "35410       2359  Stream'n at Pin Point      4557  None   None -96.0333   \n",
       "35411       2359  Stream'n at Pin Point      4557  None   None -96.0333   \n",
       "36391       2359  Stream'n at Pin Point      4557  None   None -96.0333   \n",
       "37542       2359  Stream'n at Pin Point      4557  None   None -96.0333   \n",
       "\n",
       "         lat             SiteName     SiteLocation  event_rid  ...  \\\n",
       "35029  18.97  Gullah Gullah Creek  18.97  -96.0333      56008  ...   \n",
       "35410  18.97  Gullah Gullah Creek  18.97  -96.0333      56439  ...   \n",
       "35411  18.97  Gullah Gullah Creek  18.97  -96.0333      56440  ...   \n",
       "36391  18.97  Gullah Gullah Creek  18.97  -96.0333      57519  ...   \n",
       "37542  18.97  Gullah Gullah Creek  18.97  -96.0333      59997  ...   \n",
       "\n",
       "      hold_end_datetime  min_temp  max_temp  three_M_plate ecoli_idexx  \\\n",
       "35029               NaN       NaN       NaN            NaN         NaN   \n",
       "35410               NaN       NaN       NaN            NaN         NaN   \n",
       "35411               NaN       NaN       NaN            NaN         NaN   \n",
       "36391               NaN       NaN       NaN            NaN         NaN   \n",
       "37542               NaN       NaN       NaN            NaN         NaN   \n",
       "\n",
       "      fecal_coliform  ecoli_other  ecoli_other_unit  comments  warnings  \n",
       "35029            NaN          NaN               NaN       NaN       NaN  \n",
       "35410            NaN          NaN               NaN       NaN       NaN  \n",
       "35411            NaN          NaN               NaN       NaN       NaN  \n",
       "36391            NaN          NaN               NaN       NaN       NaN  \n",
       "37542            NaN          NaN               NaN       NaN       NaN  \n",
       "\n",
       "[5 rows x 89 columns]"
      ]
     },
     "execution_count": 338,
     "metadata": {},
     "output_type": "execute_result"
    }
   ],
   "source": [
    "df[df['GroupName'] == \"Stream'n at Pin Point\"]"
   ]
  },
  {
   "cell_type": "code",
   "execution_count": 339,
   "metadata": {},
   "outputs": [
    {
     "data": {
      "text/html": [
       "<div>\n",
       "<style scoped>\n",
       "    .dataframe tbody tr th:only-of-type {\n",
       "        vertical-align: middle;\n",
       "    }\n",
       "\n",
       "    .dataframe tbody tr th {\n",
       "        vertical-align: top;\n",
       "    }\n",
       "\n",
       "    .dataframe thead th {\n",
       "        text-align: right;\n",
       "    }\n",
       "</style>\n",
       "<table border=\"1\" class=\"dataframe\">\n",
       "  <thead>\n",
       "    <tr style=\"text-align: right;\">\n",
       "      <th></th>\n",
       "      <th>group_rid</th>\n",
       "      <th>GroupName</th>\n",
       "      <th>site_rid</th>\n",
       "      <th>state</th>\n",
       "      <th>county</th>\n",
       "      <th>long</th>\n",
       "      <th>lat</th>\n",
       "      <th>SiteName</th>\n",
       "      <th>SiteLocation</th>\n",
       "      <th>event_rid</th>\n",
       "      <th>...</th>\n",
       "      <th>hold_end_datetime</th>\n",
       "      <th>min_temp</th>\n",
       "      <th>max_temp</th>\n",
       "      <th>three_M_plate</th>\n",
       "      <th>ecoli_idexx</th>\n",
       "      <th>fecal_coliform</th>\n",
       "      <th>ecoli_other</th>\n",
       "      <th>ecoli_other_unit</th>\n",
       "      <th>comments</th>\n",
       "      <th>warnings</th>\n",
       "    </tr>\n",
       "  </thead>\n",
       "  <tbody>\n",
       "    <tr>\n",
       "      <th>35029</th>\n",
       "      <td>2359</td>\n",
       "      <td>Stream'n at Pin Point</td>\n",
       "      <td>4557</td>\n",
       "      <td>None</td>\n",
       "      <td>None</td>\n",
       "      <td>-96.0333</td>\n",
       "      <td>18.97</td>\n",
       "      <td>Gullah Gullah Creek</td>\n",
       "      <td>18.97  -96.0333</td>\n",
       "      <td>56008</td>\n",
       "      <td>...</td>\n",
       "      <td>NaN</td>\n",
       "      <td>NaN</td>\n",
       "      <td>NaN</td>\n",
       "      <td>NaN</td>\n",
       "      <td>NaN</td>\n",
       "      <td>NaN</td>\n",
       "      <td>NaN</td>\n",
       "      <td>NaN</td>\n",
       "      <td>NaN</td>\n",
       "      <td>NaN</td>\n",
       "    </tr>\n",
       "    <tr>\n",
       "      <th>35410</th>\n",
       "      <td>2359</td>\n",
       "      <td>Stream'n at Pin Point</td>\n",
       "      <td>4557</td>\n",
       "      <td>None</td>\n",
       "      <td>None</td>\n",
       "      <td>-96.0333</td>\n",
       "      <td>18.97</td>\n",
       "      <td>Gullah Gullah Creek</td>\n",
       "      <td>18.97  -96.0333</td>\n",
       "      <td>56439</td>\n",
       "      <td>...</td>\n",
       "      <td>NaN</td>\n",
       "      <td>NaN</td>\n",
       "      <td>NaN</td>\n",
       "      <td>NaN</td>\n",
       "      <td>NaN</td>\n",
       "      <td>NaN</td>\n",
       "      <td>NaN</td>\n",
       "      <td>NaN</td>\n",
       "      <td>NaN</td>\n",
       "      <td>NaN</td>\n",
       "    </tr>\n",
       "    <tr>\n",
       "      <th>35411</th>\n",
       "      <td>2359</td>\n",
       "      <td>Stream'n at Pin Point</td>\n",
       "      <td>4557</td>\n",
       "      <td>None</td>\n",
       "      <td>None</td>\n",
       "      <td>-96.0333</td>\n",
       "      <td>18.97</td>\n",
       "      <td>Gullah Gullah Creek</td>\n",
       "      <td>18.97  -96.0333</td>\n",
       "      <td>56440</td>\n",
       "      <td>...</td>\n",
       "      <td>NaN</td>\n",
       "      <td>NaN</td>\n",
       "      <td>NaN</td>\n",
       "      <td>NaN</td>\n",
       "      <td>NaN</td>\n",
       "      <td>NaN</td>\n",
       "      <td>NaN</td>\n",
       "      <td>NaN</td>\n",
       "      <td>NaN</td>\n",
       "      <td>NaN</td>\n",
       "    </tr>\n",
       "    <tr>\n",
       "      <th>36391</th>\n",
       "      <td>2359</td>\n",
       "      <td>Stream'n at Pin Point</td>\n",
       "      <td>4557</td>\n",
       "      <td>None</td>\n",
       "      <td>None</td>\n",
       "      <td>-96.0333</td>\n",
       "      <td>18.97</td>\n",
       "      <td>Gullah Gullah Creek</td>\n",
       "      <td>18.97  -96.0333</td>\n",
       "      <td>57519</td>\n",
       "      <td>...</td>\n",
       "      <td>NaN</td>\n",
       "      <td>NaN</td>\n",
       "      <td>NaN</td>\n",
       "      <td>NaN</td>\n",
       "      <td>NaN</td>\n",
       "      <td>NaN</td>\n",
       "      <td>NaN</td>\n",
       "      <td>NaN</td>\n",
       "      <td>NaN</td>\n",
       "      <td>NaN</td>\n",
       "    </tr>\n",
       "    <tr>\n",
       "      <th>37542</th>\n",
       "      <td>2359</td>\n",
       "      <td>Stream'n at Pin Point</td>\n",
       "      <td>4557</td>\n",
       "      <td>None</td>\n",
       "      <td>None</td>\n",
       "      <td>-96.0333</td>\n",
       "      <td>18.97</td>\n",
       "      <td>Gullah Gullah Creek</td>\n",
       "      <td>18.97  -96.0333</td>\n",
       "      <td>59997</td>\n",
       "      <td>...</td>\n",
       "      <td>NaN</td>\n",
       "      <td>NaN</td>\n",
       "      <td>NaN</td>\n",
       "      <td>NaN</td>\n",
       "      <td>NaN</td>\n",
       "      <td>NaN</td>\n",
       "      <td>NaN</td>\n",
       "      <td>NaN</td>\n",
       "      <td>NaN</td>\n",
       "      <td>NaN</td>\n",
       "    </tr>\n",
       "  </tbody>\n",
       "</table>\n",
       "<p>5 rows × 89 columns</p>\n",
       "</div>"
      ],
      "text/plain": [
       "       group_rid              GroupName  site_rid state county     long  \\\n",
       "35029       2359  Stream'n at Pin Point      4557  None   None -96.0333   \n",
       "35410       2359  Stream'n at Pin Point      4557  None   None -96.0333   \n",
       "35411       2359  Stream'n at Pin Point      4557  None   None -96.0333   \n",
       "36391       2359  Stream'n at Pin Point      4557  None   None -96.0333   \n",
       "37542       2359  Stream'n at Pin Point      4557  None   None -96.0333   \n",
       "\n",
       "         lat             SiteName     SiteLocation  event_rid  ...  \\\n",
       "35029  18.97  Gullah Gullah Creek  18.97  -96.0333      56008  ...   \n",
       "35410  18.97  Gullah Gullah Creek  18.97  -96.0333      56439  ...   \n",
       "35411  18.97  Gullah Gullah Creek  18.97  -96.0333      56440  ...   \n",
       "36391  18.97  Gullah Gullah Creek  18.97  -96.0333      57519  ...   \n",
       "37542  18.97  Gullah Gullah Creek  18.97  -96.0333      59997  ...   \n",
       "\n",
       "      hold_end_datetime  min_temp  max_temp  three_M_plate ecoli_idexx  \\\n",
       "35029               NaN       NaN       NaN            NaN         NaN   \n",
       "35410               NaN       NaN       NaN            NaN         NaN   \n",
       "35411               NaN       NaN       NaN            NaN         NaN   \n",
       "36391               NaN       NaN       NaN            NaN         NaN   \n",
       "37542               NaN       NaN       NaN            NaN         NaN   \n",
       "\n",
       "      fecal_coliform  ecoli_other  ecoli_other_unit  comments  warnings  \n",
       "35029            NaN          NaN               NaN       NaN       NaN  \n",
       "35410            NaN          NaN               NaN       NaN       NaN  \n",
       "35411            NaN          NaN               NaN       NaN       NaN  \n",
       "36391            NaN          NaN               NaN       NaN       NaN  \n",
       "37542            NaN          NaN               NaN       NaN       NaN  \n",
       "\n",
       "[5 rows x 89 columns]"
      ]
     },
     "execution_count": 339,
     "metadata": {},
     "output_type": "execute_result"
    }
   ],
   "source": [
    "df[df['SiteName'] == \"Gullah Gullah Creek\"]"
   ]
  },
  {
   "cell_type": "markdown",
   "metadata": {},
   "source": [
    "How complete are these records anyway?"
   ]
  },
  {
   "cell_type": "code",
   "execution_count": 377,
   "metadata": {},
   "outputs": [],
   "source": [
    "gullah_df = df[df['SiteName'] == \"Gullah Gullah Creek\"]"
   ]
  },
  {
   "cell_type": "code",
   "execution_count": 389,
   "metadata": {},
   "outputs": [
    {
     "data": {
      "text/html": [
       "<div>\n",
       "<style scoped>\n",
       "    .dataframe tbody tr th:only-of-type {\n",
       "        vertical-align: middle;\n",
       "    }\n",
       "\n",
       "    .dataframe tbody tr th {\n",
       "        vertical-align: top;\n",
       "    }\n",
       "\n",
       "    .dataframe thead th {\n",
       "        text-align: right;\n",
       "    }\n",
       "</style>\n",
       "<table border=\"1\" class=\"dataframe\">\n",
       "  <thead>\n",
       "    <tr style=\"text-align: right;\">\n",
       "      <th></th>\n",
       "      <th>event_date</th>\n",
       "      <th>volunteer_time</th>\n",
       "      <th>createdby</th>\n",
       "      <th>createddate</th>\n",
       "      <th>data_entry</th>\n",
       "      <th>participants</th>\n",
       "    </tr>\n",
       "  </thead>\n",
       "  <tbody>\n",
       "    <tr>\n",
       "      <th>35029</th>\n",
       "      <td>2016-12-09 02:30:00</td>\n",
       "      <td>NaN</td>\n",
       "      <td>EPDMIG</td>\n",
       "      <td>3/10/17 11:48 PM</td>\n",
       "      <td>36434.0</td>\n",
       "      <td>1</td>\n",
       "    </tr>\n",
       "    <tr>\n",
       "      <th>35410</th>\n",
       "      <td>2017-01-13 13:00:00</td>\n",
       "      <td>NaN</td>\n",
       "      <td>EPDMIG</td>\n",
       "      <td>3/10/17 11:48 PM</td>\n",
       "      <td>36434.0</td>\n",
       "      <td>2</td>\n",
       "    </tr>\n",
       "    <tr>\n",
       "      <th>35411</th>\n",
       "      <td>2017-01-20 13:30:00</td>\n",
       "      <td>NaN</td>\n",
       "      <td>EPDMIG</td>\n",
       "      <td>3/10/17 11:48 PM</td>\n",
       "      <td>36434.0</td>\n",
       "      <td>2</td>\n",
       "    </tr>\n",
       "    <tr>\n",
       "      <th>36391</th>\n",
       "      <td>2017-04-11 11:00:00</td>\n",
       "      <td>65.0</td>\n",
       "      <td>lynn.neagley12@gmail.com</td>\n",
       "      <td>4/11/17 9:22 PM</td>\n",
       "      <td>36434.0</td>\n",
       "      <td>1</td>\n",
       "    </tr>\n",
       "    <tr>\n",
       "      <th>37542</th>\n",
       "      <td>2017-08-17 15:15:00</td>\n",
       "      <td>65.0</td>\n",
       "      <td>lynn.neagley12@gmail.com</td>\n",
       "      <td>8/20/17 9:53 PM</td>\n",
       "      <td>36434.0</td>\n",
       "      <td>1</td>\n",
       "    </tr>\n",
       "  </tbody>\n",
       "</table>\n",
       "</div>"
      ],
      "text/plain": [
       "               event_date  volunteer_time                 createdby  \\\n",
       "35029 2016-12-09 02:30:00             NaN                    EPDMIG   \n",
       "35410 2017-01-13 13:00:00             NaN                    EPDMIG   \n",
       "35411 2017-01-20 13:30:00             NaN                    EPDMIG   \n",
       "36391 2017-04-11 11:00:00            65.0  lynn.neagley12@gmail.com   \n",
       "37542 2017-08-17 15:15:00            65.0  lynn.neagley12@gmail.com   \n",
       "\n",
       "            createddate  data_entry  participants  \n",
       "35029  3/10/17 11:48 PM     36434.0             1  \n",
       "35410  3/10/17 11:48 PM     36434.0             2  \n",
       "35411  3/10/17 11:48 PM     36434.0             2  \n",
       "36391   4/11/17 9:22 PM     36434.0             1  \n",
       "37542   8/20/17 9:53 PM     36434.0             1  "
      ]
     },
     "execution_count": 389,
     "metadata": {},
     "output_type": "execute_result"
    }
   ],
   "source": [
    "gullah_df[field_groups[\"core\"]]"
   ]
  },
  {
   "cell_type": "code",
   "execution_count": 397,
   "metadata": {},
   "outputs": [],
   "source": [
    "def completion_by_fieldgroup(df: pd.DataFrame) -> dict:\n",
    "    \"\"\"Returns a dict of completion % for \n",
    "    \"\"\"\n",
    "    scores = {}\n",
    "    for k, fields in field_groups.items():\n",
    "        tot = len(df) * len(fields)\n",
    "        num_filled = tot - df[fields].isnull().sum().sum()\n",
    "        scores[k] = num_filled/tot\n",
    "    return scores"
   ]
  },
  {
   "cell_type": "code",
   "execution_count": 398,
   "metadata": {},
   "outputs": [
    {
     "data": {
      "text/plain": [
       "{'core': 0.9,\n",
       " 'basic': 0.3473684210526316,\n",
       " 'chem': 0.3181818181818182,\n",
       " 'bact': 0.06666666666666667,\n",
       " 'other': 0.0}"
      ]
     },
     "execution_count": 398,
     "metadata": {},
     "output_type": "execute_result"
    }
   ],
   "source": [
    "completion_by_fieldgroup(gullah_df)"
   ]
  },
  {
   "cell_type": "code",
   "execution_count": 399,
   "metadata": {},
   "outputs": [
    {
     "data": {
      "text/plain": [
       "{'core': 0.9295343041208834,\n",
       " 'basic': 0.31316272090009184,\n",
       " 'chem': 0.20733876058577846,\n",
       " 'bact': 0.2026678370456291,\n",
       " 'other': 0.000986387626825265}"
      ]
     },
     "execution_count": 399,
     "metadata": {},
     "output_type": "execute_result"
    }
   ],
   "source": [
    "completion_by_fieldgroup(df)"
   ]
  },
  {
   "cell_type": "markdown",
   "metadata": {},
   "source": [
    "# Coverage of WBDs by records"
   ]
  },
  {
   "cell_type": "code",
   "execution_count": 456,
   "metadata": {},
   "outputs": [],
   "source": [
    "wbd_counts = df.groupby('wbd').agg(count=('wbd', 'count'))"
   ]
  },
  {
   "cell_type": "code",
   "execution_count": 452,
   "metadata": {},
   "outputs": [],
   "source": [
    "wbd_no_records = set(wbd_names).difference(df['wbd'].unique())"
   ]
  },
  {
   "cell_type": "code",
   "execution_count": 458,
   "metadata": {},
   "outputs": [
    {
     "data": {
      "text/html": [
       "<div>\n",
       "<style scoped>\n",
       "    .dataframe tbody tr th:only-of-type {\n",
       "        vertical-align: middle;\n",
       "    }\n",
       "\n",
       "    .dataframe tbody tr th {\n",
       "        vertical-align: top;\n",
       "    }\n",
       "\n",
       "    .dataframe thead th {\n",
       "        text-align: right;\n",
       "    }\n",
       "</style>\n",
       "<table border=\"1\" class=\"dataframe\">\n",
       "  <thead>\n",
       "    <tr style=\"text-align: right;\">\n",
       "      <th></th>\n",
       "      <th>count</th>\n",
       "    </tr>\n",
       "    <tr>\n",
       "      <th>wbd</th>\n",
       "      <th></th>\n",
       "    </tr>\n",
       "  </thead>\n",
       "  <tbody>\n",
       "    <tr>\n",
       "      <th>Shaddock Creek-Oconee River</th>\n",
       "      <td>1</td>\n",
       "    </tr>\n",
       "    <tr>\n",
       "      <th>Upper Tesnatee Creek</th>\n",
       "      <td>1</td>\n",
       "    </tr>\n",
       "    <tr>\n",
       "      <th>Heiferhorn Creek</th>\n",
       "      <td>1</td>\n",
       "    </tr>\n",
       "    <tr>\n",
       "      <th>Town of Pelham-Big Slough</th>\n",
       "      <td>1</td>\n",
       "    </tr>\n",
       "    <tr>\n",
       "      <th>Pigeon Creek</th>\n",
       "      <td>1</td>\n",
       "    </tr>\n",
       "    <tr>\n",
       "      <th>Harris Creek-St. Marys River</th>\n",
       "      <td>1</td>\n",
       "    </tr>\n",
       "    <tr>\n",
       "      <th>Hardy Mill Creek</th>\n",
       "      <td>1</td>\n",
       "    </tr>\n",
       "    <tr>\n",
       "      <th>Upper Lanahassee Creek</th>\n",
       "      <td>1</td>\n",
       "    </tr>\n",
       "    <tr>\n",
       "      <th>Gola Creek-Potato Creek</th>\n",
       "      <td>1</td>\n",
       "    </tr>\n",
       "    <tr>\n",
       "      <th>Fords Creek-Ogeechee River</th>\n",
       "      <td>1</td>\n",
       "    </tr>\n",
       "  </tbody>\n",
       "</table>\n",
       "</div>"
      ],
      "text/plain": [
       "                              count\n",
       "wbd                                \n",
       "Shaddock Creek-Oconee River       1\n",
       "Upper Tesnatee Creek              1\n",
       "Heiferhorn Creek                  1\n",
       "Town of Pelham-Big Slough         1\n",
       "Pigeon Creek                      1\n",
       "Harris Creek-St. Marys River      1\n",
       "Hardy Mill Creek                  1\n",
       "Upper Lanahassee Creek            1\n",
       "Gola Creek-Potato Creek           1\n",
       "Fords Creek-Ogeechee River        1"
      ]
     },
     "execution_count": 458,
     "metadata": {},
     "output_type": "execute_result"
    }
   ],
   "source": [
    "wbd_counts.sort_values(by='count').head(10)"
   ]
  },
  {
   "cell_type": "code",
   "execution_count": 460,
   "metadata": {},
   "outputs": [],
   "source": [
    "poorly_repd_wbds = wbd_counts[wbd_counts['count'] < 50]\n",
    "well_repd_wbds = wbd_counts[wbd_counts['count'] >= 50]"
   ]
  },
  {
   "cell_type": "code",
   "execution_count": 463,
   "metadata": {},
   "outputs": [
    {
     "data": {
      "text/plain": [
       "(1093, 376, 188)"
      ]
     },
     "execution_count": 463,
     "metadata": {},
     "output_type": "execute_result"
    }
   ],
   "source": [
    "len(wbd_no_records), len(poorly_repd_wbds), len(well_repd_wbds)"
   ]
  },
  {
   "cell_type": "code",
   "execution_count": 464,
   "metadata": {},
   "outputs": [
    {
     "data": {
      "text/plain": [
       "{'core': 0.925784996133024,\n",
       " 'basic': 0.30055928684821104,\n",
       " 'chem': 0.1986981649441046,\n",
       " 'bact': 0.20278669760247486,\n",
       " 'other': 0.0006032482598607888}"
      ]
     },
     "execution_count": 464,
     "metadata": {},
     "output_type": "execute_result"
    }
   ],
   "source": [
    "completion_by_fieldgroup(df[df['wbd'].isin(set(well_repd_wbds.index))])"
   ]
  },
  {
   "cell_type": "code",
   "execution_count": 465,
   "metadata": {},
   "outputs": [
    {
     "data": {
      "text/plain": [
       "{'core': 0.9675754910583406,\n",
       " 'basic': 0.36397722538536315,\n",
       " 'chem': 0.24142480211081793,\n",
       " 'bact': 0.1798182351216652,\n",
       " 'other': 0.0007538635506973238}"
      ]
     },
     "execution_count": 465,
     "metadata": {},
     "output_type": "execute_result"
    }
   ],
   "source": [
    "completion_by_fieldgroup(df[df['wbd'].isin(set(poorly_repd_wbds.index))])"
   ]
  },
  {
   "cell_type": "markdown",
   "metadata": {},
   "source": [
    "# Coverage of counties by records"
   ]
  },
  {
   "cell_type": "code",
   "execution_count": 466,
   "metadata": {},
   "outputs": [],
   "source": [
    "county_counts = df.groupby('county').agg(count=('county', 'count'))"
   ]
  },
  {
   "cell_type": "code",
   "execution_count": 468,
   "metadata": {},
   "outputs": [],
   "source": [
    "county_no_records = set(counties).difference(df['county'].unique())"
   ]
  },
  {
   "cell_type": "code",
   "execution_count": 470,
   "metadata": {},
   "outputs": [
    {
     "data": {
      "text/html": [
       "<div>\n",
       "<style scoped>\n",
       "    .dataframe tbody tr th:only-of-type {\n",
       "        vertical-align: middle;\n",
       "    }\n",
       "\n",
       "    .dataframe tbody tr th {\n",
       "        vertical-align: top;\n",
       "    }\n",
       "\n",
       "    .dataframe thead th {\n",
       "        text-align: right;\n",
       "    }\n",
       "</style>\n",
       "<table border=\"1\" class=\"dataframe\">\n",
       "  <thead>\n",
       "    <tr style=\"text-align: right;\">\n",
       "      <th></th>\n",
       "      <th>count</th>\n",
       "    </tr>\n",
       "    <tr>\n",
       "      <th>county</th>\n",
       "      <th></th>\n",
       "    </tr>\n",
       "  </thead>\n",
       "  <tbody>\n",
       "    <tr>\n",
       "      <th>Jones</th>\n",
       "      <td>1</td>\n",
       "    </tr>\n",
       "    <tr>\n",
       "      <th>Anderson</th>\n",
       "      <td>1</td>\n",
       "    </tr>\n",
       "    <tr>\n",
       "      <th>Marion</th>\n",
       "      <td>1</td>\n",
       "    </tr>\n",
       "    <tr>\n",
       "      <th>Wayne</th>\n",
       "      <td>1</td>\n",
       "    </tr>\n",
       "    <tr>\n",
       "      <th>Laurens</th>\n",
       "      <td>1</td>\n",
       "    </tr>\n",
       "    <tr>\n",
       "      <th>Hancock</th>\n",
       "      <td>1</td>\n",
       "    </tr>\n",
       "    <tr>\n",
       "      <th>Chattahoochee</th>\n",
       "      <td>1</td>\n",
       "    </tr>\n",
       "    <tr>\n",
       "      <th>Irwin</th>\n",
       "      <td>2</td>\n",
       "    </tr>\n",
       "    <tr>\n",
       "      <th>Webster</th>\n",
       "      <td>2</td>\n",
       "    </tr>\n",
       "    <tr>\n",
       "      <th>Miller</th>\n",
       "      <td>2</td>\n",
       "    </tr>\n",
       "  </tbody>\n",
       "</table>\n",
       "</div>"
      ],
      "text/plain": [
       "               count\n",
       "county              \n",
       "Jones              1\n",
       "Anderson           1\n",
       "Marion             1\n",
       "Wayne              1\n",
       "Laurens            1\n",
       "Hancock            1\n",
       "Chattahoochee      1\n",
       "Irwin              2\n",
       "Webster            2\n",
       "Miller             2"
      ]
     },
     "execution_count": 470,
     "metadata": {},
     "output_type": "execute_result"
    }
   ],
   "source": [
    "county_counts.sort_values(by='count').head(10)"
   ]
  },
  {
   "cell_type": "code",
   "execution_count": 471,
   "metadata": {},
   "outputs": [],
   "source": [
    "poorly_repd_counties = county_counts[county_counts['count'] < 50]\n",
    "well_repd_counties = county_counts[county_counts['count'] >= 50]"
   ]
  },
  {
   "cell_type": "code",
   "execution_count": 472,
   "metadata": {},
   "outputs": [
    {
     "data": {
      "text/plain": [
       "(14, 45, 90)"
      ]
     },
     "execution_count": 472,
     "metadata": {},
     "output_type": "execute_result"
    }
   ],
   "source": [
    "len(county_no_records), len(poorly_repd_counties), len(well_repd_counties)"
   ]
  },
  {
   "cell_type": "code",
   "execution_count": 473,
   "metadata": {},
   "outputs": [
    {
     "data": {
      "text/plain": [
       "{'core': 0.9294503389330976,\n",
       " 'basic': 0.3060116624963756,\n",
       " 'chem': 0.20251973932345285,\n",
       " 'bact': 0.20020063932530777,\n",
       " 'other': 0.0005963311666229438}"
      ]
     },
     "execution_count": 473,
     "metadata": {},
     "output_type": "execute_result"
    }
   ],
   "source": [
    "completion_by_fieldgroup(df[df['county'].isin(set(well_repd_counties.index))])"
   ]
  },
  {
   "cell_type": "code",
   "execution_count": 474,
   "metadata": {},
   "outputs": [
    {
     "data": {
      "text/plain": [
       "{'core': 0.9573791348600509,\n",
       " 'basic': 0.3544931029864738,\n",
       " 'chem': 0.22374508443210733,\n",
       " 'bact': 0.22357930449533503,\n",
       " 'other': 0.0021810250817884407}"
      ]
     },
     "execution_count": 474,
     "metadata": {},
     "output_type": "execute_result"
    }
   ],
   "source": [
    "completion_by_fieldgroup(df[df['county'].isin(set(poorly_repd_counties.index))])"
   ]
  },
  {
   "cell_type": "markdown",
   "metadata": {},
   "source": [
    "# Q. Is it always the same groups that measure at the same locations?"
   ]
  },
  {
   "cell_type": "code",
   "execution_count": 400,
   "metadata": {},
   "outputs": [
    {
     "data": {
      "text/plain": [
       "1112"
      ]
     },
     "execution_count": 400,
     "metadata": {},
     "output_type": "execute_result"
    }
   ],
   "source": [
    "df['group_rid'].nunique()"
   ]
  },
  {
   "cell_type": "code",
   "execution_count": 401,
   "metadata": {},
   "outputs": [
    {
     "data": {
      "text/html": [
       "<div>\n",
       "<style scoped>\n",
       "    .dataframe tbody tr th:only-of-type {\n",
       "        vertical-align: middle;\n",
       "    }\n",
       "\n",
       "    .dataframe tbody tr th {\n",
       "        vertical-align: top;\n",
       "    }\n",
       "\n",
       "    .dataframe thead th {\n",
       "        text-align: right;\n",
       "    }\n",
       "</style>\n",
       "<table border=\"1\" class=\"dataframe\">\n",
       "  <thead>\n",
       "    <tr style=\"text-align: right;\">\n",
       "      <th></th>\n",
       "      <th>GroupName</th>\n",
       "      <th>site_rid</th>\n",
       "      <th>state</th>\n",
       "      <th>county</th>\n",
       "      <th>lat</th>\n",
       "      <th>long</th>\n",
       "      <th>SiteName</th>\n",
       "      <th>SiteLocation</th>\n",
       "      <th>event_rid</th>\n",
       "      <th>event_date</th>\n",
       "      <th>...</th>\n",
       "      <th>hold_end_datetime</th>\n",
       "      <th>min_temp</th>\n",
       "      <th>max_temp</th>\n",
       "      <th>three_M_plate</th>\n",
       "      <th>ecoli_idexx</th>\n",
       "      <th>fecal_coliform</th>\n",
       "      <th>ecoli_other</th>\n",
       "      <th>ecoli_other_unit</th>\n",
       "      <th>comments</th>\n",
       "      <th>warnings</th>\n",
       "    </tr>\n",
       "    <tr>\n",
       "      <th>group_rid</th>\n",
       "      <th></th>\n",
       "      <th></th>\n",
       "      <th></th>\n",
       "      <th></th>\n",
       "      <th></th>\n",
       "      <th></th>\n",
       "      <th></th>\n",
       "      <th></th>\n",
       "      <th></th>\n",
       "      <th></th>\n",
       "      <th></th>\n",
       "      <th></th>\n",
       "      <th></th>\n",
       "      <th></th>\n",
       "      <th></th>\n",
       "      <th></th>\n",
       "      <th></th>\n",
       "      <th></th>\n",
       "      <th></th>\n",
       "      <th></th>\n",
       "      <th></th>\n",
       "    </tr>\n",
       "  </thead>\n",
       "  <tbody>\n",
       "    <tr>\n",
       "      <th>104</th>\n",
       "      <td>3</td>\n",
       "      <td>3</td>\n",
       "      <td>3</td>\n",
       "      <td>3</td>\n",
       "      <td>3</td>\n",
       "      <td>3</td>\n",
       "      <td>3</td>\n",
       "      <td>3</td>\n",
       "      <td>3</td>\n",
       "      <td>3</td>\n",
       "      <td>...</td>\n",
       "      <td>0</td>\n",
       "      <td>0</td>\n",
       "      <td>0</td>\n",
       "      <td>0</td>\n",
       "      <td>0</td>\n",
       "      <td>0</td>\n",
       "      <td>0</td>\n",
       "      <td>0</td>\n",
       "      <td>0</td>\n",
       "      <td>0</td>\n",
       "    </tr>\n",
       "    <tr>\n",
       "      <th>130</th>\n",
       "      <td>40</td>\n",
       "      <td>40</td>\n",
       "      <td>40</td>\n",
       "      <td>40</td>\n",
       "      <td>40</td>\n",
       "      <td>40</td>\n",
       "      <td>40</td>\n",
       "      <td>40</td>\n",
       "      <td>40</td>\n",
       "      <td>40</td>\n",
       "      <td>...</td>\n",
       "      <td>0</td>\n",
       "      <td>0</td>\n",
       "      <td>0</td>\n",
       "      <td>0</td>\n",
       "      <td>0</td>\n",
       "      <td>0</td>\n",
       "      <td>0</td>\n",
       "      <td>0</td>\n",
       "      <td>0</td>\n",
       "      <td>0</td>\n",
       "    </tr>\n",
       "    <tr>\n",
       "      <th>133</th>\n",
       "      <td>13</td>\n",
       "      <td>13</td>\n",
       "      <td>13</td>\n",
       "      <td>13</td>\n",
       "      <td>13</td>\n",
       "      <td>13</td>\n",
       "      <td>13</td>\n",
       "      <td>13</td>\n",
       "      <td>13</td>\n",
       "      <td>13</td>\n",
       "      <td>...</td>\n",
       "      <td>0</td>\n",
       "      <td>0</td>\n",
       "      <td>0</td>\n",
       "      <td>0</td>\n",
       "      <td>0</td>\n",
       "      <td>0</td>\n",
       "      <td>0</td>\n",
       "      <td>0</td>\n",
       "      <td>0</td>\n",
       "      <td>0</td>\n",
       "    </tr>\n",
       "    <tr>\n",
       "      <th>134</th>\n",
       "      <td>3</td>\n",
       "      <td>3</td>\n",
       "      <td>3</td>\n",
       "      <td>3</td>\n",
       "      <td>3</td>\n",
       "      <td>3</td>\n",
       "      <td>3</td>\n",
       "      <td>3</td>\n",
       "      <td>3</td>\n",
       "      <td>3</td>\n",
       "      <td>...</td>\n",
       "      <td>0</td>\n",
       "      <td>0</td>\n",
       "      <td>0</td>\n",
       "      <td>0</td>\n",
       "      <td>0</td>\n",
       "      <td>0</td>\n",
       "      <td>0</td>\n",
       "      <td>0</td>\n",
       "      <td>0</td>\n",
       "      <td>0</td>\n",
       "    </tr>\n",
       "    <tr>\n",
       "      <th>137</th>\n",
       "      <td>1</td>\n",
       "      <td>1</td>\n",
       "      <td>1</td>\n",
       "      <td>1</td>\n",
       "      <td>1</td>\n",
       "      <td>1</td>\n",
       "      <td>1</td>\n",
       "      <td>1</td>\n",
       "      <td>1</td>\n",
       "      <td>1</td>\n",
       "      <td>...</td>\n",
       "      <td>0</td>\n",
       "      <td>0</td>\n",
       "      <td>0</td>\n",
       "      <td>0</td>\n",
       "      <td>0</td>\n",
       "      <td>0</td>\n",
       "      <td>0</td>\n",
       "      <td>0</td>\n",
       "      <td>0</td>\n",
       "      <td>0</td>\n",
       "    </tr>\n",
       "    <tr>\n",
       "      <th>...</th>\n",
       "      <td>...</td>\n",
       "      <td>...</td>\n",
       "      <td>...</td>\n",
       "      <td>...</td>\n",
       "      <td>...</td>\n",
       "      <td>...</td>\n",
       "      <td>...</td>\n",
       "      <td>...</td>\n",
       "      <td>...</td>\n",
       "      <td>...</td>\n",
       "      <td>...</td>\n",
       "      <td>...</td>\n",
       "      <td>...</td>\n",
       "      <td>...</td>\n",
       "      <td>...</td>\n",
       "      <td>...</td>\n",
       "      <td>...</td>\n",
       "      <td>...</td>\n",
       "      <td>...</td>\n",
       "      <td>...</td>\n",
       "      <td>...</td>\n",
       "    </tr>\n",
       "    <tr>\n",
       "      <th>2997</th>\n",
       "      <td>3</td>\n",
       "      <td>3</td>\n",
       "      <td>3</td>\n",
       "      <td>3</td>\n",
       "      <td>3</td>\n",
       "      <td>3</td>\n",
       "      <td>3</td>\n",
       "      <td>3</td>\n",
       "      <td>3</td>\n",
       "      <td>3</td>\n",
       "      <td>...</td>\n",
       "      <td>0</td>\n",
       "      <td>0</td>\n",
       "      <td>0</td>\n",
       "      <td>0</td>\n",
       "      <td>0</td>\n",
       "      <td>0</td>\n",
       "      <td>0</td>\n",
       "      <td>0</td>\n",
       "      <td>0</td>\n",
       "      <td>0</td>\n",
       "    </tr>\n",
       "    <tr>\n",
       "      <th>3006</th>\n",
       "      <td>2</td>\n",
       "      <td>2</td>\n",
       "      <td>2</td>\n",
       "      <td>2</td>\n",
       "      <td>2</td>\n",
       "      <td>2</td>\n",
       "      <td>2</td>\n",
       "      <td>2</td>\n",
       "      <td>2</td>\n",
       "      <td>2</td>\n",
       "      <td>...</td>\n",
       "      <td>0</td>\n",
       "      <td>0</td>\n",
       "      <td>0</td>\n",
       "      <td>0</td>\n",
       "      <td>0</td>\n",
       "      <td>0</td>\n",
       "      <td>0</td>\n",
       "      <td>0</td>\n",
       "      <td>0</td>\n",
       "      <td>0</td>\n",
       "    </tr>\n",
       "    <tr>\n",
       "      <th>3007</th>\n",
       "      <td>1</td>\n",
       "      <td>1</td>\n",
       "      <td>1</td>\n",
       "      <td>1</td>\n",
       "      <td>1</td>\n",
       "      <td>1</td>\n",
       "      <td>1</td>\n",
       "      <td>1</td>\n",
       "      <td>1</td>\n",
       "      <td>1</td>\n",
       "      <td>...</td>\n",
       "      <td>0</td>\n",
       "      <td>0</td>\n",
       "      <td>0</td>\n",
       "      <td>0</td>\n",
       "      <td>0</td>\n",
       "      <td>0</td>\n",
       "      <td>0</td>\n",
       "      <td>0</td>\n",
       "      <td>0</td>\n",
       "      <td>0</td>\n",
       "    </tr>\n",
       "    <tr>\n",
       "      <th>3008</th>\n",
       "      <td>3</td>\n",
       "      <td>3</td>\n",
       "      <td>3</td>\n",
       "      <td>3</td>\n",
       "      <td>3</td>\n",
       "      <td>3</td>\n",
       "      <td>3</td>\n",
       "      <td>3</td>\n",
       "      <td>3</td>\n",
       "      <td>3</td>\n",
       "      <td>...</td>\n",
       "      <td>0</td>\n",
       "      <td>0</td>\n",
       "      <td>0</td>\n",
       "      <td>0</td>\n",
       "      <td>0</td>\n",
       "      <td>0</td>\n",
       "      <td>0</td>\n",
       "      <td>0</td>\n",
       "      <td>0</td>\n",
       "      <td>0</td>\n",
       "    </tr>\n",
       "    <tr>\n",
       "      <th>3009</th>\n",
       "      <td>1</td>\n",
       "      <td>1</td>\n",
       "      <td>1</td>\n",
       "      <td>1</td>\n",
       "      <td>1</td>\n",
       "      <td>1</td>\n",
       "      <td>1</td>\n",
       "      <td>1</td>\n",
       "      <td>1</td>\n",
       "      <td>1</td>\n",
       "      <td>...</td>\n",
       "      <td>1</td>\n",
       "      <td>1</td>\n",
       "      <td>1</td>\n",
       "      <td>1</td>\n",
       "      <td>0</td>\n",
       "      <td>0</td>\n",
       "      <td>0</td>\n",
       "      <td>0</td>\n",
       "      <td>0</td>\n",
       "      <td>1</td>\n",
       "    </tr>\n",
       "  </tbody>\n",
       "</table>\n",
       "<p>1112 rows × 88 columns</p>\n",
       "</div>"
      ],
      "text/plain": [
       "           GroupName  site_rid  state  county  lat  long  SiteName  \\\n",
       "group_rid                                                            \n",
       "104                3         3      3       3    3     3         3   \n",
       "130               40        40     40      40   40    40        40   \n",
       "133               13        13     13      13   13    13        13   \n",
       "134                3         3      3       3    3     3         3   \n",
       "137                1         1      1       1    1     1         1   \n",
       "...              ...       ...    ...     ...  ...   ...       ...   \n",
       "2997               3         3      3       3    3     3         3   \n",
       "3006               2         2      2       2    2     2         2   \n",
       "3007               1         1      1       1    1     1         1   \n",
       "3008               3         3      3       3    3     3         3   \n",
       "3009               1         1      1       1    1     1         1   \n",
       "\n",
       "           SiteLocation  event_rid  event_date  ...  hold_end_datetime  \\\n",
       "group_rid                                       ...                      \n",
       "104                   3          3           3  ...                  0   \n",
       "130                  40         40          40  ...                  0   \n",
       "133                  13         13          13  ...                  0   \n",
       "134                   3          3           3  ...                  0   \n",
       "137                   1          1           1  ...                  0   \n",
       "...                 ...        ...         ...  ...                ...   \n",
       "2997                  3          3           3  ...                  0   \n",
       "3006                  2          2           2  ...                  0   \n",
       "3007                  1          1           1  ...                  0   \n",
       "3008                  3          3           3  ...                  0   \n",
       "3009                  1          1           1  ...                  1   \n",
       "\n",
       "           min_temp  max_temp  three_M_plate  ecoli_idexx  fecal_coliform  \\\n",
       "group_rid                                                                   \n",
       "104               0         0              0            0               0   \n",
       "130               0         0              0            0               0   \n",
       "133               0         0              0            0               0   \n",
       "134               0         0              0            0               0   \n",
       "137               0         0              0            0               0   \n",
       "...             ...       ...            ...          ...             ...   \n",
       "2997              0         0              0            0               0   \n",
       "3006              0         0              0            0               0   \n",
       "3007              0         0              0            0               0   \n",
       "3008              0         0              0            0               0   \n",
       "3009              1         1              1            0               0   \n",
       "\n",
       "           ecoli_other  ecoli_other_unit  comments  warnings  \n",
       "group_rid                                                     \n",
       "104                  0                 0         0         0  \n",
       "130                  0                 0         0         0  \n",
       "133                  0                 0         0         0  \n",
       "134                  0                 0         0         0  \n",
       "137                  0                 0         0         0  \n",
       "...                ...               ...       ...       ...  \n",
       "2997                 0                 0         0         0  \n",
       "3006                 0                 0         0         0  \n",
       "3007                 0                 0         0         0  \n",
       "3008                 0                 0         0         0  \n",
       "3009                 0                 0         0         1  \n",
       "\n",
       "[1112 rows x 88 columns]"
      ]
     },
     "execution_count": 401,
     "metadata": {},
     "output_type": "execute_result"
    }
   ],
   "source": [
    "df.groupby('group_rid').count()"
   ]
  },
  {
   "cell_type": "code",
   "execution_count": 403,
   "metadata": {},
   "outputs": [
    {
     "data": {
      "text/html": [
       "<div>\n",
       "<style scoped>\n",
       "    .dataframe tbody tr th:only-of-type {\n",
       "        vertical-align: middle;\n",
       "    }\n",
       "\n",
       "    .dataframe tbody tr th {\n",
       "        vertical-align: top;\n",
       "    }\n",
       "\n",
       "    .dataframe thead th {\n",
       "        text-align: right;\n",
       "    }\n",
       "</style>\n",
       "<table border=\"1\" class=\"dataframe\">\n",
       "  <thead>\n",
       "    <tr style=\"text-align: right;\">\n",
       "      <th></th>\n",
       "      <th>group_rid</th>\n",
       "    </tr>\n",
       "    <tr>\n",
       "      <th>SiteName</th>\n",
       "      <th></th>\n",
       "    </tr>\n",
       "  </thead>\n",
       "  <tbody>\n",
       "    <tr>\n",
       "      <th>Ivy Creek &amp; Little Ivy Creek</th>\n",
       "      <td>26</td>\n",
       "    </tr>\n",
       "    <tr>\n",
       "      <th>#1b Disharoon Creek before it enters Disharoon Lake</th>\n",
       "      <td>3</td>\n",
       "    </tr>\n",
       "    <tr>\n",
       "      <th>#22 Key Largo</th>\n",
       "      <td>8</td>\n",
       "    </tr>\n",
       "    <tr>\n",
       "      <th>#5a Disharoon Creek</th>\n",
       "      <td>49</td>\n",
       "    </tr>\n",
       "    <tr>\n",
       "      <th>#6 East Branch Long Swamp Creek</th>\n",
       "      <td>7</td>\n",
       "    </tr>\n",
       "    <tr>\n",
       "      <th>...</th>\n",
       "      <td>...</td>\n",
       "    </tr>\n",
       "    <tr>\n",
       "      <th>up stream Trib of Peachtree Creek</th>\n",
       "      <td>1</td>\n",
       "    </tr>\n",
       "    <tr>\n",
       "      <th>upper cherry creek</th>\n",
       "      <td>8</td>\n",
       "    </tr>\n",
       "    <tr>\n",
       "      <th>white marlin nautilus dr</th>\n",
       "      <td>1</td>\n",
       "    </tr>\n",
       "    <tr>\n",
       "      <th>wildcat</th>\n",
       "      <td>1</td>\n",
       "    </tr>\n",
       "    <tr>\n",
       "      <th>wildcreek</th>\n",
       "      <td>1</td>\n",
       "    </tr>\n",
       "  </tbody>\n",
       "</table>\n",
       "<p>2188 rows × 1 columns</p>\n",
       "</div>"
      ],
      "text/plain": [
       "                                                    group_rid\n",
       "SiteName                                                     \n",
       " Ivy Creek & Little Ivy Creek                              26\n",
       "#1b Disharoon Creek before it enters Disharoon ...          3\n",
       "#22 Key Largo                                               8\n",
       "#5a Disharoon Creek                                        49\n",
       "#6 East Branch Long Swamp Creek                             7\n",
       "...                                                       ...\n",
       "up stream Trib of Peachtree Creek                           1\n",
       "upper cherry creek                                          8\n",
       "white marlin nautilus dr                                    1\n",
       "wildcat                                                     1\n",
       "wildcreek                                                   1\n",
       "\n",
       "[2188 rows x 1 columns]"
      ]
     },
     "execution_count": 403,
     "metadata": {},
     "output_type": "execute_result"
    }
   ],
   "source": [
    "df[['group_rid','SiteName']].groupby('SiteName').count()"
   ]
  },
  {
   "cell_type": "code",
   "execution_count": 404,
   "metadata": {},
   "outputs": [
    {
     "data": {
      "text/html": [
       "<div>\n",
       "<style scoped>\n",
       "    .dataframe tbody tr th:only-of-type {\n",
       "        vertical-align: middle;\n",
       "    }\n",
       "\n",
       "    .dataframe tbody tr th {\n",
       "        vertical-align: top;\n",
       "    }\n",
       "\n",
       "    .dataframe thead th {\n",
       "        text-align: right;\n",
       "    }\n",
       "</style>\n",
       "<table border=\"1\" class=\"dataframe\">\n",
       "  <thead>\n",
       "    <tr style=\"text-align: right;\">\n",
       "      <th></th>\n",
       "      <th>group_rid</th>\n",
       "    </tr>\n",
       "    <tr>\n",
       "      <th>SiteLocation</th>\n",
       "      <th></th>\n",
       "    </tr>\n",
       "  </thead>\n",
       "  <tbody>\n",
       "    <tr>\n",
       "      <th>18.97  -96.0333</th>\n",
       "      <td>5</td>\n",
       "    </tr>\n",
       "    <tr>\n",
       "      <th>24.2808  -82.2217</th>\n",
       "      <td>4</td>\n",
       "    </tr>\n",
       "    <tr>\n",
       "      <th>24.5251  -81.5192</th>\n",
       "      <td>3</td>\n",
       "    </tr>\n",
       "    <tr>\n",
       "      <th>24.5457  -81.7836</th>\n",
       "      <td>1</td>\n",
       "    </tr>\n",
       "    <tr>\n",
       "      <th>24.5463  -81.7945</th>\n",
       "      <td>2</td>\n",
       "    </tr>\n",
       "    <tr>\n",
       "      <th>...</th>\n",
       "      <td>...</td>\n",
       "    </tr>\n",
       "    <tr>\n",
       "      <th>35.2064  -83.8156</th>\n",
       "      <td>36</td>\n",
       "    </tr>\n",
       "    <tr>\n",
       "      <th>35.2112  -83.3252</th>\n",
       "      <td>2</td>\n",
       "    </tr>\n",
       "    <tr>\n",
       "      <th>35.2297  -83.7392</th>\n",
       "      <td>3</td>\n",
       "    </tr>\n",
       "    <tr>\n",
       "      <th>35.2331  -83.7207</th>\n",
       "      <td>3</td>\n",
       "    </tr>\n",
       "    <tr>\n",
       "      <th>35.2416  -83.7083</th>\n",
       "      <td>3</td>\n",
       "    </tr>\n",
       "  </tbody>\n",
       "</table>\n",
       "<p>2917 rows × 1 columns</p>\n",
       "</div>"
      ],
      "text/plain": [
       "                   group_rid\n",
       "SiteLocation                \n",
       "18.97  -96.0333            5\n",
       "24.2808  -82.2217          4\n",
       "24.5251  -81.5192          3\n",
       "24.5457  -81.7836          1\n",
       "24.5463  -81.7945          2\n",
       "...                      ...\n",
       "35.2064  -83.8156         36\n",
       "35.2112  -83.3252          2\n",
       "35.2297  -83.7392          3\n",
       "35.2331  -83.7207          3\n",
       "35.2416  -83.7083          3\n",
       "\n",
       "[2917 rows x 1 columns]"
      ]
     },
     "execution_count": 404,
     "metadata": {},
     "output_type": "execute_result"
    }
   ],
   "source": [
    "df[['group_rid','SiteLocation']].groupby('SiteLocation').count()"
   ]
  },
  {
   "cell_type": "markdown",
   "metadata": {},
   "source": [
    "Results:\n",
    " - observation:\n",
    "     - there are 5 SiteLocations indicating to be outside of the USA, all at the same spot in Mexico\n",
    "     - The records are labelled with GroupName \"Stream'n at Pin Point\" with group_rid 2359 and SiteName \"Gullah Gullah Creek\"\n",
    "     - Those 5 records are the only ones recorded by that group and at that SiteName\n",
    "     - The name \"Gullah Gullah Creek\" has no hits on Google, but \"Gullah\" is associated with an area near Charleston, SC.\n",
    " - source: plotting the (lat, lon) on a map\n",
    " - conclusion: we should remove these records from the dataset as not being close to GA"
   ]
  },
  {
   "cell_type": "markdown",
   "metadata": {},
   "source": [
    "We've removed these anyway by virtue of the WBD screening!"
   ]
  },
  {
   "cell_type": "markdown",
   "metadata": {},
   "source": [
    "<br><hr><br>"
   ]
  },
  {
   "cell_type": "markdown",
   "metadata": {},
   "source": [
    "Show example of location being way outside of the USA"
   ]
  },
  {
   "cell_type": "code",
   "execution_count": null,
   "metadata": {},
   "outputs": [],
   "source": [
    "fig = go.Figure(go.Scattergeo())\n",
    "fig.layout.template = None\n",
    "fig.add_scattergeo(\n",
    "    lat = [gdf.geometry.x[0]],\n",
    "    lon = [gdf.geometry.y[0]],\n",
    "    hoverinfo='none',\n",
    "    #mode = 'markers+text',\n",
    "    #text = texts,\n",
    "    marker_size = 10, #2,\n",
    "    marker_color = 'rgb(235, 0, 100)'\n",
    ")\n",
    "fig.update_geos(\n",
    "    visible=False, resolution=110, #scope=\"usa\",\n",
    "    showcountries=True, countrycolor=\"Black\",\n",
    "    showsubunits=True, subunitcolor=\"Black\"\n",
    ")\n",
    "fig.show()"
   ]
  },
  {
   "cell_type": "markdown",
   "metadata": {},
   "source": [
    "## Other non-GA locations of records"
   ]
  },
  {
   "cell_type": "markdown",
   "metadata": {},
   "source": [
    "We'll compare locations to the borders of GA state using state GIS shape data and an algorithm based on drawing a line from a given measurement location to the closest state boundary line segment. The source of this approach is from https://www.reddit.com/r/dataisbeautiful/comments/6ulj3v/the_longest_straight_line_that_can_be_drawn_in/"
   ]
  },
  {
   "cell_type": "code",
   "execution_count": 341,
   "metadata": {},
   "outputs": [
    {
     "data": {
      "text/plain": [
       "[('Georgia', 2570),\n",
       " ('Florida', 142),\n",
       " ('South Carolina', 105),\n",
       " ('North Carolina', 60),\n",
       " ('Tennessee', 25),\n",
       " ('Alabama', 12)]"
      ]
     },
     "execution_count": 341,
     "metadata": {},
     "output_type": "execute_result"
    }
   ],
   "source": [
    "ga_locs = []\n",
    "states = []\n",
    "non_ga_idxs = defaultdict(list)\n",
    "for i, d in enumerate(loc_lookup):\n",
    "    if i in non_usa_count:\n",
    "        continue\n",
    "    else:\n",
    "        state_name = d['State']['name']\n",
    "        states.append(state_name)\n",
    "        if state_name == \"Georgia\":\n",
    "            ga_locs.append(tuple(loc_pairs[i]))\n",
    "        else:\n",
    "            non_ga_idxs[state_name].append(i)\n",
    "Counter(states).most_common()"
   ]
  },
  {
   "cell_type": "code",
   "execution_count": 372,
   "metadata": {},
   "outputs": [],
   "source": [
    "SC_df = df[df['state'] == 'South Carolina']"
   ]
  },
  {
   "cell_type": "code",
   "execution_count": 373,
   "metadata": {},
   "outputs": [
    {
     "data": {
      "text/html": [
       "<div>\n",
       "<style scoped>\n",
       "    .dataframe tbody tr th:only-of-type {\n",
       "        vertical-align: middle;\n",
       "    }\n",
       "\n",
       "    .dataframe tbody tr th {\n",
       "        vertical-align: top;\n",
       "    }\n",
       "\n",
       "    .dataframe thead th {\n",
       "        text-align: right;\n",
       "    }\n",
       "</style>\n",
       "<table border=\"1\" class=\"dataframe\">\n",
       "  <thead>\n",
       "    <tr style=\"text-align: right;\">\n",
       "      <th></th>\n",
       "      <th>group_rid</th>\n",
       "      <th>GroupName</th>\n",
       "      <th>site_rid</th>\n",
       "      <th>state</th>\n",
       "      <th>county</th>\n",
       "      <th>long</th>\n",
       "      <th>lat</th>\n",
       "      <th>SiteName</th>\n",
       "      <th>SiteLocation</th>\n",
       "      <th>event_rid</th>\n",
       "      <th>...</th>\n",
       "      <th>hold_end_datetime</th>\n",
       "      <th>min_temp</th>\n",
       "      <th>max_temp</th>\n",
       "      <th>three_M_plate</th>\n",
       "      <th>ecoli_idexx</th>\n",
       "      <th>fecal_coliform</th>\n",
       "      <th>ecoli_other</th>\n",
       "      <th>ecoli_other_unit</th>\n",
       "      <th>comments</th>\n",
       "      <th>warnings</th>\n",
       "    </tr>\n",
       "  </thead>\n",
       "  <tbody>\n",
       "    <tr>\n",
       "      <th>5785</th>\n",
       "      <td>1087</td>\n",
       "      <td>AAAS Stream Stompers</td>\n",
       "      <td>953</td>\n",
       "      <td>South Carolina</td>\n",
       "      <td>Aiken</td>\n",
       "      <td>-81.8534</td>\n",
       "      <td>33.3345</td>\n",
       "      <td>Hollow Creek 1</td>\n",
       "      <td>33.3345  -81.8534</td>\n",
       "      <td>22175</td>\n",
       "      <td>...</td>\n",
       "      <td>NaN</td>\n",
       "      <td>NaN</td>\n",
       "      <td>NaN</td>\n",
       "      <td>NaN</td>\n",
       "      <td>NaN</td>\n",
       "      <td>NaN</td>\n",
       "      <td>NaN</td>\n",
       "      <td>NaN</td>\n",
       "      <td>NaN</td>\n",
       "      <td>NaN</td>\n",
       "    </tr>\n",
       "    <tr>\n",
       "      <th>5788</th>\n",
       "      <td>1087</td>\n",
       "      <td>AAAS Stream Stompers</td>\n",
       "      <td>953</td>\n",
       "      <td>South Carolina</td>\n",
       "      <td>Aiken</td>\n",
       "      <td>-81.8534</td>\n",
       "      <td>33.3345</td>\n",
       "      <td>Hollow Creek 1</td>\n",
       "      <td>33.3345  -81.8534</td>\n",
       "      <td>22179</td>\n",
       "      <td>...</td>\n",
       "      <td>NaN</td>\n",
       "      <td>NaN</td>\n",
       "      <td>NaN</td>\n",
       "      <td>NaN</td>\n",
       "      <td>NaN</td>\n",
       "      <td>NaN</td>\n",
       "      <td>NaN</td>\n",
       "      <td>NaN</td>\n",
       "      <td>NaN</td>\n",
       "      <td>NaN</td>\n",
       "    </tr>\n",
       "    <tr>\n",
       "      <th>5789</th>\n",
       "      <td>1087</td>\n",
       "      <td>AAAS Stream Stompers</td>\n",
       "      <td>954</td>\n",
       "      <td>South Carolina</td>\n",
       "      <td>Aiken</td>\n",
       "      <td>-81.8222</td>\n",
       "      <td>33.3434</td>\n",
       "      <td>Hollow Creek 2</td>\n",
       "      <td>33.3434  -81.8222</td>\n",
       "      <td>22181</td>\n",
       "      <td>...</td>\n",
       "      <td>NaN</td>\n",
       "      <td>NaN</td>\n",
       "      <td>NaN</td>\n",
       "      <td>NaN</td>\n",
       "      <td>NaN</td>\n",
       "      <td>NaN</td>\n",
       "      <td>NaN</td>\n",
       "      <td>NaN</td>\n",
       "      <td>NaN</td>\n",
       "      <td>NaN</td>\n",
       "    </tr>\n",
       "    <tr>\n",
       "      <th>5790</th>\n",
       "      <td>1087</td>\n",
       "      <td>AAAS Stream Stompers</td>\n",
       "      <td>954</td>\n",
       "      <td>South Carolina</td>\n",
       "      <td>Aiken</td>\n",
       "      <td>-81.8222</td>\n",
       "      <td>33.3434</td>\n",
       "      <td>Hollow Creek 2</td>\n",
       "      <td>33.3434  -81.8222</td>\n",
       "      <td>22182</td>\n",
       "      <td>...</td>\n",
       "      <td>NaN</td>\n",
       "      <td>NaN</td>\n",
       "      <td>NaN</td>\n",
       "      <td>NaN</td>\n",
       "      <td>NaN</td>\n",
       "      <td>NaN</td>\n",
       "      <td>NaN</td>\n",
       "      <td>NaN</td>\n",
       "      <td>NaN</td>\n",
       "      <td>NaN</td>\n",
       "    </tr>\n",
       "    <tr>\n",
       "      <th>5794</th>\n",
       "      <td>1087</td>\n",
       "      <td>AAAS Stream Stompers</td>\n",
       "      <td>953</td>\n",
       "      <td>South Carolina</td>\n",
       "      <td>Aiken</td>\n",
       "      <td>-81.8534</td>\n",
       "      <td>33.3345</td>\n",
       "      <td>Hollow Creek 1</td>\n",
       "      <td>33.3345  -81.8534</td>\n",
       "      <td>22186</td>\n",
       "      <td>...</td>\n",
       "      <td>NaN</td>\n",
       "      <td>NaN</td>\n",
       "      <td>NaN</td>\n",
       "      <td>NaN</td>\n",
       "      <td>NaN</td>\n",
       "      <td>NaN</td>\n",
       "      <td>NaN</td>\n",
       "      <td>NaN</td>\n",
       "      <td>NaN</td>\n",
       "      <td>NaN</td>\n",
       "    </tr>\n",
       "  </tbody>\n",
       "</table>\n",
       "<p>5 rows × 89 columns</p>\n",
       "</div>"
      ],
      "text/plain": [
       "      group_rid             GroupName  site_rid           state county  \\\n",
       "5785       1087  AAAS Stream Stompers       953  South Carolina  Aiken   \n",
       "5788       1087  AAAS Stream Stompers       953  South Carolina  Aiken   \n",
       "5789       1087  AAAS Stream Stompers       954  South Carolina  Aiken   \n",
       "5790       1087  AAAS Stream Stompers       954  South Carolina  Aiken   \n",
       "5794       1087  AAAS Stream Stompers       953  South Carolina  Aiken   \n",
       "\n",
       "         long      lat        SiteName       SiteLocation  event_rid  ...  \\\n",
       "5785 -81.8534  33.3345  Hollow Creek 1  33.3345  -81.8534      22175  ...   \n",
       "5788 -81.8534  33.3345  Hollow Creek 1  33.3345  -81.8534      22179  ...   \n",
       "5789 -81.8222  33.3434  Hollow Creek 2  33.3434  -81.8222      22181  ...   \n",
       "5790 -81.8222  33.3434  Hollow Creek 2  33.3434  -81.8222      22182  ...   \n",
       "5794 -81.8534  33.3345  Hollow Creek 1  33.3345  -81.8534      22186  ...   \n",
       "\n",
       "     hold_end_datetime  min_temp  max_temp  three_M_plate ecoli_idexx  \\\n",
       "5785               NaN       NaN       NaN            NaN         NaN   \n",
       "5788               NaN       NaN       NaN            NaN         NaN   \n",
       "5789               NaN       NaN       NaN            NaN         NaN   \n",
       "5790               NaN       NaN       NaN            NaN         NaN   \n",
       "5794               NaN       NaN       NaN            NaN         NaN   \n",
       "\n",
       "     fecal_coliform  ecoli_other  ecoli_other_unit  comments  warnings  \n",
       "5785            NaN          NaN               NaN       NaN       NaN  \n",
       "5788            NaN          NaN               NaN       NaN       NaN  \n",
       "5789            NaN          NaN               NaN       NaN       NaN  \n",
       "5790            NaN          NaN               NaN       NaN       NaN  \n",
       "5794            NaN          NaN               NaN       NaN       NaN  \n",
       "\n",
       "[5 rows x 89 columns]"
      ]
     },
     "execution_count": 373,
     "metadata": {},
     "output_type": "execute_result"
    }
   ],
   "source": [
    "SC_df.head()"
   ]
  },
  {
   "cell_type": "code",
   "execution_count": 196,
   "metadata": {},
   "outputs": [],
   "source": [
    "_, _, gdf_sc = get_loc_objects_from_series(SC_df['SiteLocation'])"
   ]
  },
  {
   "cell_type": "markdown",
   "metadata": {},
   "source": [
    "### How far are these non-GA locations from the GA border?"
   ]
  },
  {
   "cell_type": "code",
   "execution_count": 183,
   "metadata": {},
   "outputs": [],
   "source": [
    "from scipy.spatial import ConvexHull, convex_hull_plot_2d\n",
    "import math"
   ]
  },
  {
   "cell_type": "code",
   "execution_count": 189,
   "metadata": {},
   "outputs": [],
   "source": [
    "hull = ConvexHull(ga_locs)"
   ]
  },
  {
   "cell_type": "code",
   "execution_count": 190,
   "metadata": {},
   "outputs": [],
   "source": [
    "ga_hull_points = np.array(ga_locs)[hull.vertices]"
   ]
  },
  {
   "cell_type": "markdown",
   "metadata": {},
   "source": [
    "### Tools for observations"
   ]
  },
  {
   "cell_type": "code",
   "execution_count": 299,
   "metadata": {},
   "outputs": [],
   "source": [
    "def dist_to_line(x1, y1, x2, y2, px, py) -> float:\n",
    "    \"\"\"Find shortest distance of a point to a line segment\n",
    "    \n",
    "    (px, py) are the coords of the point to compare to the line given by (x1, y1), (x2, y2).\n",
    "    \n",
    "    Reference: from http://stackoverflow.com/questions/849211/shortest-distance-between-a-point-and-a-line-segment\n",
    "    \n",
    "    For GIS, this cheats by using Euclidean 2D distance rather than a geodesic, but we should be close enough at the scale\n",
    "    of a state to identify which convex hull line to use. Then we can measure more precisely.\n",
    "    \"\"\"\n",
    "    dx = x2 - x1\n",
    "    dy = y2 - y1\n",
    "    u =  ((px - x1) * dx + (py - y1) * dy) / (dx*dx + dy*dy)\n",
    "\n",
    "    if u > 1:\n",
    "        u = 1\n",
    "    elif u < 0:\n",
    "        u = 0\n",
    "\n",
    "    return (x1 + u * dx, y1 + u * dy)"
   ]
  },
  {
   "cell_type": "code",
   "execution_count": 305,
   "metadata": {},
   "outputs": [],
   "source": [
    "def sq_dist(x1, y1, x2, y2) -> float:\n",
    "    \"\"\"Utility to return the squared distance between point (x1, y1) and (x2, y2).\n",
    "    \"\"\"\n",
    "    dx = x1 - x2\n",
    "    dy = y1 - y2\n",
    "    return dx*dx + dy*dy"
   ]
  },
  {
   "cell_type": "markdown",
   "metadata": {},
   "source": [
    "### Calcs for observations"
   ]
  },
  {
   "cell_type": "code",
   "execution_count": 312,
   "metadata": {},
   "outputs": [
    {
     "name": "stderr",
     "output_type": "stream",
     "text": [
      "100%|██████████| 5/5 [00:00<00:00, 43.98it/s]\n"
     ]
    }
   ],
   "source": [
    "dist_to_ga = {}\n",
    "for state, idxs in tqdm(non_ga_idxs.items()):\n",
    "    dist_to_ga[state] = {}\n",
    "    for idx in idxs:\n",
    "        p = loc_pairs[idx]\n",
    "        close_pts = []\n",
    "        for i in range(len(ga_hull_points)-1):\n",
    "            close_pts.append(dist_to_line(ga_hull_points[i][0],\n",
    "                                            ga_hull_points[i][1],\n",
    "                                            ga_hull_points[i+1][0],\n",
    "                                            ga_hull_points[i+1][1],\n",
    "                                            p[0], p[1]))\n",
    "        sq_dists = [sq_dist(cp[0], cp[1], p[0], p[1]) for cp in close_pts]\n",
    "        ci = np.argmin(sq_dists)\n",
    "        dist_to_ga[state][idx] = distance.distance(ga_hull_points[ci], p).miles"
   ]
  },
  {
   "cell_type": "code",
   "execution_count": 316,
   "metadata": {},
   "outputs": [
    {
     "data": {
      "text/html": [
       "<div>\n",
       "<style scoped>\n",
       "    .dataframe tbody tr th:only-of-type {\n",
       "        vertical-align: middle;\n",
       "    }\n",
       "\n",
       "    .dataframe tbody tr th {\n",
       "        vertical-align: top;\n",
       "    }\n",
       "\n",
       "    .dataframe thead th {\n",
       "        text-align: right;\n",
       "    }\n",
       "</style>\n",
       "<table border=\"1\" class=\"dataframe\">\n",
       "  <thead>\n",
       "    <tr style=\"text-align: right;\">\n",
       "      <th></th>\n",
       "      <th>0</th>\n",
       "    </tr>\n",
       "  </thead>\n",
       "  <tbody>\n",
       "    <tr>\n",
       "      <th>count</th>\n",
       "      <td>142.000000</td>\n",
       "    </tr>\n",
       "    <tr>\n",
       "      <th>mean</th>\n",
       "      <td>337.961919</td>\n",
       "    </tr>\n",
       "    <tr>\n",
       "      <th>std</th>\n",
       "      <td>144.543301</td>\n",
       "    </tr>\n",
       "    <tr>\n",
       "      <th>min</th>\n",
       "      <td>1.335761</td>\n",
       "    </tr>\n",
       "    <tr>\n",
       "      <th>25%</th>\n",
       "      <td>388.724784</td>\n",
       "    </tr>\n",
       "    <tr>\n",
       "      <th>50%</th>\n",
       "      <td>415.330678</td>\n",
       "    </tr>\n",
       "    <tr>\n",
       "      <th>75%</th>\n",
       "      <td>421.862131</td>\n",
       "    </tr>\n",
       "    <tr>\n",
       "      <th>max</th>\n",
       "      <td>427.139693</td>\n",
       "    </tr>\n",
       "  </tbody>\n",
       "</table>\n",
       "</div>"
      ],
      "text/plain": [
       "                0\n",
       "count  142.000000\n",
       "mean   337.961919\n",
       "std    144.543301\n",
       "min      1.335761\n",
       "25%    388.724784\n",
       "50%    415.330678\n",
       "75%    421.862131\n",
       "max    427.139693"
      ]
     },
     "execution_count": 316,
     "metadata": {},
     "output_type": "execute_result"
    }
   ],
   "source": [
    "pd.DataFrame(dist_to_ga['Florida'].values()).describe()"
   ]
  },
  {
   "cell_type": "code",
   "execution_count": 317,
   "metadata": {},
   "outputs": [
    {
     "data": {
      "text/html": [
       "<div>\n",
       "<style scoped>\n",
       "    .dataframe tbody tr th:only-of-type {\n",
       "        vertical-align: middle;\n",
       "    }\n",
       "\n",
       "    .dataframe tbody tr th {\n",
       "        vertical-align: top;\n",
       "    }\n",
       "\n",
       "    .dataframe thead th {\n",
       "        text-align: right;\n",
       "    }\n",
       "</style>\n",
       "<table border=\"1\" class=\"dataframe\">\n",
       "  <thead>\n",
       "    <tr style=\"text-align: right;\">\n",
       "      <th></th>\n",
       "      <th>0</th>\n",
       "    </tr>\n",
       "  </thead>\n",
       "  <tbody>\n",
       "    <tr>\n",
       "      <th>count</th>\n",
       "      <td>12.000000</td>\n",
       "    </tr>\n",
       "    <tr>\n",
       "      <th>mean</th>\n",
       "      <td>75.408657</td>\n",
       "    </tr>\n",
       "    <tr>\n",
       "      <th>std</th>\n",
       "      <td>46.230323</td>\n",
       "    </tr>\n",
       "    <tr>\n",
       "      <th>min</th>\n",
       "      <td>41.364905</td>\n",
       "    </tr>\n",
       "    <tr>\n",
       "      <th>25%</th>\n",
       "      <td>49.562724</td>\n",
       "    </tr>\n",
       "    <tr>\n",
       "      <th>50%</th>\n",
       "      <td>50.640955</td>\n",
       "    </tr>\n",
       "    <tr>\n",
       "      <th>75%</th>\n",
       "      <td>84.173838</td>\n",
       "    </tr>\n",
       "    <tr>\n",
       "      <th>max</th>\n",
       "      <td>161.716842</td>\n",
       "    </tr>\n",
       "  </tbody>\n",
       "</table>\n",
       "</div>"
      ],
      "text/plain": [
       "                0\n",
       "count   12.000000\n",
       "mean    75.408657\n",
       "std     46.230323\n",
       "min     41.364905\n",
       "25%     49.562724\n",
       "50%     50.640955\n",
       "75%     84.173838\n",
       "max    161.716842"
      ]
     },
     "execution_count": 317,
     "metadata": {},
     "output_type": "execute_result"
    }
   ],
   "source": [
    "pd.DataFrame(dist_to_ga['Alabama'].values()).describe()"
   ]
  },
  {
   "cell_type": "code",
   "execution_count": 318,
   "metadata": {},
   "outputs": [
    {
     "data": {
      "text/html": [
       "<div>\n",
       "<style scoped>\n",
       "    .dataframe tbody tr th:only-of-type {\n",
       "        vertical-align: middle;\n",
       "    }\n",
       "\n",
       "    .dataframe tbody tr th {\n",
       "        vertical-align: top;\n",
       "    }\n",
       "\n",
       "    .dataframe thead th {\n",
       "        text-align: right;\n",
       "    }\n",
       "</style>\n",
       "<table border=\"1\" class=\"dataframe\">\n",
       "  <thead>\n",
       "    <tr style=\"text-align: right;\">\n",
       "      <th></th>\n",
       "      <th>0</th>\n",
       "    </tr>\n",
       "  </thead>\n",
       "  <tbody>\n",
       "    <tr>\n",
       "      <th>count</th>\n",
       "      <td>25.000000</td>\n",
       "    </tr>\n",
       "    <tr>\n",
       "      <th>mean</th>\n",
       "      <td>9.644941</td>\n",
       "    </tr>\n",
       "    <tr>\n",
       "      <th>std</th>\n",
       "      <td>2.841635</td>\n",
       "    </tr>\n",
       "    <tr>\n",
       "      <th>min</th>\n",
       "      <td>2.057784</td>\n",
       "    </tr>\n",
       "    <tr>\n",
       "      <th>25%</th>\n",
       "      <td>8.270898</td>\n",
       "    </tr>\n",
       "    <tr>\n",
       "      <th>50%</th>\n",
       "      <td>9.257004</td>\n",
       "    </tr>\n",
       "    <tr>\n",
       "      <th>75%</th>\n",
       "      <td>11.680576</td>\n",
       "    </tr>\n",
       "    <tr>\n",
       "      <th>max</th>\n",
       "      <td>14.731425</td>\n",
       "    </tr>\n",
       "  </tbody>\n",
       "</table>\n",
       "</div>"
      ],
      "text/plain": [
       "               0\n",
       "count  25.000000\n",
       "mean    9.644941\n",
       "std     2.841635\n",
       "min     2.057784\n",
       "25%     8.270898\n",
       "50%     9.257004\n",
       "75%    11.680576\n",
       "max    14.731425"
      ]
     },
     "execution_count": 318,
     "metadata": {},
     "output_type": "execute_result"
    }
   ],
   "source": [
    "pd.DataFrame(dist_to_ga['Tennessee'].values()).describe()"
   ]
  },
  {
   "cell_type": "code",
   "execution_count": 319,
   "metadata": {},
   "outputs": [
    {
     "data": {
      "text/html": [
       "<div>\n",
       "<style scoped>\n",
       "    .dataframe tbody tr th:only-of-type {\n",
       "        vertical-align: middle;\n",
       "    }\n",
       "\n",
       "    .dataframe tbody tr th {\n",
       "        vertical-align: top;\n",
       "    }\n",
       "\n",
       "    .dataframe thead th {\n",
       "        text-align: right;\n",
       "    }\n",
       "</style>\n",
       "<table border=\"1\" class=\"dataframe\">\n",
       "  <thead>\n",
       "    <tr style=\"text-align: right;\">\n",
       "      <th></th>\n",
       "      <th>0</th>\n",
       "    </tr>\n",
       "  </thead>\n",
       "  <tbody>\n",
       "    <tr>\n",
       "      <th>count</th>\n",
       "      <td>105.000000</td>\n",
       "    </tr>\n",
       "    <tr>\n",
       "      <th>mean</th>\n",
       "      <td>55.188245</td>\n",
       "    </tr>\n",
       "    <tr>\n",
       "      <th>std</th>\n",
       "      <td>20.092929</td>\n",
       "    </tr>\n",
       "    <tr>\n",
       "      <th>min</th>\n",
       "      <td>2.356079</td>\n",
       "    </tr>\n",
       "    <tr>\n",
       "      <th>25%</th>\n",
       "      <td>39.960461</td>\n",
       "    </tr>\n",
       "    <tr>\n",
       "      <th>50%</th>\n",
       "      <td>56.503895</td>\n",
       "    </tr>\n",
       "    <tr>\n",
       "      <th>75%</th>\n",
       "      <td>71.232295</td>\n",
       "    </tr>\n",
       "    <tr>\n",
       "      <th>max</th>\n",
       "      <td>106.960527</td>\n",
       "    </tr>\n",
       "  </tbody>\n",
       "</table>\n",
       "</div>"
      ],
      "text/plain": [
       "                0\n",
       "count  105.000000\n",
       "mean    55.188245\n",
       "std     20.092929\n",
       "min      2.356079\n",
       "25%     39.960461\n",
       "50%     56.503895\n",
       "75%     71.232295\n",
       "max    106.960527"
      ]
     },
     "execution_count": 319,
     "metadata": {},
     "output_type": "execute_result"
    }
   ],
   "source": [
    "pd.DataFrame(dist_to_ga['South Carolina'].values()).describe()"
   ]
  },
  {
   "cell_type": "code",
   "execution_count": 320,
   "metadata": {},
   "outputs": [
    {
     "data": {
      "text/html": [
       "<div>\n",
       "<style scoped>\n",
       "    .dataframe tbody tr th:only-of-type {\n",
       "        vertical-align: middle;\n",
       "    }\n",
       "\n",
       "    .dataframe tbody tr th {\n",
       "        vertical-align: top;\n",
       "    }\n",
       "\n",
       "    .dataframe thead th {\n",
       "        text-align: right;\n",
       "    }\n",
       "</style>\n",
       "<table border=\"1\" class=\"dataframe\">\n",
       "  <thead>\n",
       "    <tr style=\"text-align: right;\">\n",
       "      <th></th>\n",
       "      <th>0</th>\n",
       "    </tr>\n",
       "  </thead>\n",
       "  <tbody>\n",
       "    <tr>\n",
       "      <th>count</th>\n",
       "      <td>60.000000</td>\n",
       "    </tr>\n",
       "    <tr>\n",
       "      <th>mean</th>\n",
       "      <td>73.560841</td>\n",
       "    </tr>\n",
       "    <tr>\n",
       "      <th>std</th>\n",
       "      <td>23.057736</td>\n",
       "    </tr>\n",
       "    <tr>\n",
       "      <th>min</th>\n",
       "      <td>2.570491</td>\n",
       "    </tr>\n",
       "    <tr>\n",
       "      <th>25%</th>\n",
       "      <td>76.592661</td>\n",
       "    </tr>\n",
       "    <tr>\n",
       "      <th>50%</th>\n",
       "      <td>81.451586</td>\n",
       "    </tr>\n",
       "    <tr>\n",
       "      <th>75%</th>\n",
       "      <td>85.208131</td>\n",
       "    </tr>\n",
       "    <tr>\n",
       "      <th>max</th>\n",
       "      <td>88.496757</td>\n",
       "    </tr>\n",
       "  </tbody>\n",
       "</table>\n",
       "</div>"
      ],
      "text/plain": [
       "               0\n",
       "count  60.000000\n",
       "mean   73.560841\n",
       "std    23.057736\n",
       "min     2.570491\n",
       "25%    76.592661\n",
       "50%    81.451586\n",
       "75%    85.208131\n",
       "max    88.496757"
      ]
     },
     "execution_count": 320,
     "metadata": {},
     "output_type": "execute_result"
    }
   ],
   "source": [
    "pd.DataFrame(dist_to_ga['North Carolina'].values()).describe()"
   ]
  },
  {
   "cell_type": "markdown",
   "metadata": {},
   "source": [
    "# Validate site name <--> location mapping"
   ]
  },
  {
   "cell_type": "code",
   "execution_count": 39,
   "metadata": {},
   "outputs": [
    {
     "data": {
      "text/plain": [
       "17    53358\n",
       "16     8393\n",
       "15     1890\n",
       "14      100\n",
       "13       29\n",
       "12       21\n",
       "11        6\n",
       "Name: SiteLocation, dtype: int64"
      ]
     },
     "execution_count": 39,
     "metadata": {},
     "output_type": "execute_result"
    }
   ],
   "source": [
    "locs['SiteLocation'].apply(len).value_counts()"
   ]
  },
  {
   "cell_type": "code",
   "execution_count": 32,
   "metadata": {},
   "outputs": [
    {
     "data": {
      "text/plain": [
       "2189"
      ]
     },
     "execution_count": 32,
     "metadata": {},
     "output_type": "execute_result"
    }
   ],
   "source": [
    "all_site_names = list(locs['SiteName'].unique())\n",
    "len(all_site_names)"
   ]
  },
  {
   "cell_type": "code",
   "execution_count": 70,
   "metadata": {},
   "outputs": [],
   "source": [
    "site_loc_map = defaultdict(set)\n",
    "for site_name in all_site_names:\n",
    "    this_site = df[df['SiteName'] == site_name]\n",
    "    site_loc_map[site_name].update(set(this_site['latlong']))"
   ]
  },
  {
   "cell_type": "code",
   "execution_count": 13,
   "metadata": {},
   "outputs": [
    {
     "data": {
      "text/plain": [
       "['West Fork of Little River',\n",
       " 'Apalachee River',\n",
       " 'Alcovy River',\n",
       " 'Bear Creek',\n",
       " 'Beaverbrook Stream',\n",
       " 'Herb River',\n",
       " 'Bluestone Creek',\n",
       " 'Braxton Creek',\n",
       " 'Calls Creek',\n",
       " 'Caney Creek']"
      ]
     },
     "execution_count": 13,
     "metadata": {},
     "output_type": "execute_result"
    }
   ],
   "source": [
    "all_site_names[:10]"
   ]
  },
  {
   "cell_type": "markdown",
   "metadata": {},
   "source": [
    "Number of separate (lat, long) locations identified at the same named site"
   ]
  },
  {
   "cell_type": "code",
   "execution_count": 71,
   "metadata": {},
   "outputs": [
    {
     "data": {
      "text/plain": [
       "2"
      ]
     },
     "execution_count": 71,
     "metadata": {},
     "output_type": "execute_result"
    }
   ],
   "source": [
    "len(site_loc_map['West Fork of Little River'])"
   ]
  },
  {
   "cell_type": "code",
   "execution_count": 73,
   "metadata": {},
   "outputs": [
    {
     "data": {
      "text/plain": [
       "94"
      ]
     },
     "execution_count": 73,
     "metadata": {},
     "output_type": "execute_result"
    }
   ],
   "source": [
    "len(site_loc_map['Calls Creek'])"
   ]
  },
  {
   "cell_type": "code",
   "execution_count": 74,
   "metadata": {},
   "outputs": [
    {
     "data": {
      "text/plain": [
       "4"
      ]
     },
     "execution_count": 74,
     "metadata": {},
     "output_type": "execute_result"
    }
   ],
   "source": [
    "len(site_loc_map['Herb River'])"
   ]
  },
  {
   "cell_type": "code",
   "execution_count": 124,
   "metadata": {},
   "outputs": [],
   "source": [
    "site_name = 'Calls Creek'"
   ]
  },
  {
   "cell_type": "code",
   "execution_count": 125,
   "metadata": {},
   "outputs": [],
   "source": [
    "site_df = df[df['SiteName'] == site_name]"
   ]
  },
  {
   "cell_type": "code",
   "execution_count": 128,
   "metadata": {},
   "outputs": [
    {
     "data": {
      "text/plain": [
       "Oconee    175\n",
       "Name: county, dtype: int64"
      ]
     },
     "execution_count": 128,
     "metadata": {},
     "output_type": "execute_result"
    }
   ],
   "source": [
    "site_df['county'].value_counts()"
   ]
  },
  {
   "cell_type": "code",
   "execution_count": 126,
   "metadata": {},
   "outputs": [],
   "source": [
    "loc_pairs_site, geo_locs_site, gdf_site = get_loc_objects_from_series(site_df['SiteLocation'])"
   ]
  },
  {
   "cell_type": "code",
   "execution_count": null,
   "metadata": {},
   "outputs": [],
   "source": []
  },
  {
   "cell_type": "markdown",
   "metadata": {},
   "source": [
    "## Load US city and town locations, as reference"
   ]
  },
  {
   "cell_type": "markdown",
   "metadata": {},
   "source": [
    "The cities data is currently unused, since mapbox allows place names on the background maps."
   ]
  },
  {
   "cell_type": "code",
   "execution_count": 88,
   "metadata": {},
   "outputs": [],
   "source": [
    "with open('geodata/stanford-bx729wr3020-geojson.json') as json_file:\n",
    "    cities = json.load(json_file)"
   ]
  },
  {
   "cell_type": "code",
   "execution_count": 146,
   "metadata": {},
   "outputs": [],
   "source": [
    "ga_cities = {'type': 'FeatureCollection', 'features': [c for c in cities['features'] if c['properties']['state'] == 'GA']}"
   ]
  },
  {
   "cell_type": "code",
   "execution_count": 147,
   "metadata": {},
   "outputs": [],
   "source": [
    "site_cities = {'type': 'FeatureCollection', 'features': [c for c in ga_cities['features'] if c['properties']['county'] == 'Oconee']}"
   ]
  },
  {
   "cell_type": "code",
   "execution_count": 142,
   "metadata": {},
   "outputs": [
    {
     "data": {
      "text/plain": [
       "5"
      ]
     },
     "execution_count": 142,
     "metadata": {},
     "output_type": "execute_result"
    }
   ],
   "source": [
    "len(site_cities['features'])"
   ]
  },
  {
   "cell_type": "code",
   "execution_count": 130,
   "metadata": {},
   "outputs": [
    {
     "data": {
      "text/plain": [
       "{'type': 'Feature',\n",
       " 'id': 'bx729wr3020.15648',\n",
       " 'geometry': {'type': 'Point', 'coordinates': [-83.4387722, 33.8192864]},\n",
       " 'geometry_name': 'geom',\n",
       " 'properties': {'gnis_id': 311456,\n",
       "  'ansicode': '2405269',\n",
       "  'feature': 'Civil',\n",
       "  'feature2': '-999',\n",
       "  'name': 'Bishop',\n",
       "  'pop_2010': 224,\n",
       "  'county': 'Oconee',\n",
       "  'countyfips': '219',\n",
       "  'state': 'GA',\n",
       "  'state_fips': '13',\n",
       "  'latitude': 33.8192864,\n",
       "  'longitude': -83.4387722,\n",
       "  'poppllat': 33.8192864,\n",
       "  'poppllong': -83.4387722,\n",
       "  'elev_in_m': 237,\n",
       "  'elev_in_ft': 778},\n",
       " 'bbox': [-83.4387722, 33.8192864, -83.4387722, 33.8192864]}"
      ]
     },
     "execution_count": 130,
     "metadata": {},
     "output_type": "execute_result"
    }
   ],
   "source": [
    "site_cities[0]"
   ]
  },
  {
   "cell_type": "code",
   "execution_count": null,
   "metadata": {},
   "outputs": [],
   "source": [
    "fig = go.Figure(\n",
    "    data=[\n",
    "        go.Scattergeo(\n",
    "            lat=[feature[\"geometry\"][\"coordinates\"][1]],\n",
    "            lon=[feature[\"geometry\"][\"coordinates\"][0]],\n",
    "            mode=\"lines\",\n",
    "            line=dict(width=8, color=\"#F00\"),\n",
    "            showlegend = False,\n",
    "        )\n",
    "        for feature in ga_cities[:10]\n",
    "    ]\n",
    ")\n",
    "\n",
    "fig.update_layout(\n",
    "    geo={\n",
    "        'lonaxis': { 'range': [-30, 60] },\n",
    "        'lataxis': { 'range': [30, 70] }\n",
    "    }\n",
    ")\n",
    "fig.show()"
   ]
  },
  {
   "cell_type": "code",
   "execution_count": null,
   "metadata": {},
   "outputs": [],
   "source": [
    "fig = ff.create_choropleth(\n",
    "        fips=fips, values=values, scope=['Georgia'], show_state_data=True,\n",
    "        #colorscale=\"Reds\", #colorscale,\n",
    "        binning_endpoints=endpts, round_legend_values=True,\n",
    "        plot_bgcolor='rgb(229,229,229)',\n",
    "        paper_bgcolor='rgb(229,229,229)',\n",
    "        legend_title=title,\n",
    "        county_outline={'color': 'rgb(255,255,255)', 'width': 0.5},\n",
    "        exponent_format=False,\n",
    "    )\n",
    "fig.layout.template = None"
   ]
  },
  {
   "cell_type": "markdown",
   "metadata": {},
   "source": [
    "<br><hr><br>"
   ]
  },
  {
   "cell_type": "code",
   "execution_count": null,
   "metadata": {},
   "outputs": [],
   "source": []
  }
 ],
 "metadata": {
  "kernelspec": {
   "display_name": "Python 3",
   "language": "python",
   "name": "python3"
  },
  "language_info": {
   "codemirror_mode": {
    "name": "ipython",
    "version": 3
   },
   "file_extension": ".py",
   "mimetype": "text/x-python",
   "name": "python",
   "nbconvert_exporter": "python",
   "pygments_lexer": "ipython3",
   "version": "3.7.5"
  }
 },
 "nbformat": 4,
 "nbformat_minor": 4
}
